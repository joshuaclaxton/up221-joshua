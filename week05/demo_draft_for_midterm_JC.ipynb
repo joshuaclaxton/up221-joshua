{
 "cells": [
  {
   "cell_type": "markdown",
   "id": "9be428d1-816f-40ae-ad47-a0c2a75fc538",
   "metadata": {},
   "source": [
    "# DEMO SHIFT FOR MIDTERM"
   ]
  },
  {
   "cell_type": "code",
   "execution_count": 338,
   "id": "9a1be74f-0448-49a4-977d-87404e288350",
   "metadata": {},
   "outputs": [],
   "source": [
    "# import libraries\n",
    "import pandas as pd\n",
    "import numpy as np\n",
    "import libpysal as lp\n",
    "import geopandas as gpd\n",
    "import plotly.express as px\n",
    "import plotly.graph_objects as go\n",
    "import matplotlib.pyplot as plt\n",
    "import contextily as ctx\n",
    "# To ignore warnings\n",
    "import warnings\n",
    "warnings.filterwarnings('ignore')"
   ]
  },
  {
   "cell_type": "code",
   "execution_count": 339,
   "id": "639e648c-977e-42c8-8e17-dfeed036d4c6",
   "metadata": {},
   "outputs": [],
   "source": [
    "# import demographic csv file data from 2017 Census, rename FIPS column for append, \n",
    "## and ensure FIPS syntax is correct\n",
    "tracts_race_17 = pd.read_csv('data/race_2017.csv', dtype = {'fips':str})\n",
    "tracts_race_17.rename(columns={'fips': 'FIPS'}, inplace=True)\n",
    "# fips column does not have a leading zero, let's add that here\n",
    "tracts_race_17['FIPS'] = tracts_race_17['FIPS'].str.zfill(11)\n",
    "# import demographic csv file data from 2021 Census, rename some columns for append,\n",
    "## and ensure FIPS syntax is correct\n",
    "tracts_race_21 = pd.read_csv('data/rent_burden_ct_1.csv',dtype = {'Geo_FIPS':str})\n",
    "tracts_race_21.rename(columns={'total_pop': 'total','white_alone':'white','black_alone':\n",
    "                               'black','asian_alone':'asian' }, inplace=True)\n",
    "# fips column does not have a leading zero, let's add that here\n",
    "tracts_race_21['FIPS'] = tracts_race_21['Geo_FIPS'].str.zfill(11)\n",
    "# import LA neighborhoods from ArcGIS\n",
    "nbh = gpd.read_file(\"https://services5.arcgis.com/7nsPwEMP38bSkCjy/arcgis/rest/services/LA_Times_Neighborhoods/FeatureServer/0/query?outFields=*&where=1%3D1&f=geojson\")"
   ]
  },
  {
   "cell_type": "code",
   "execution_count": 340,
   "id": "85e29a50-6ddf-4d68-88a2-9b486ff7c08f",
   "metadata": {},
   "outputs": [
    {
     "data": {
      "text/html": [
       "<div>\n",
       "<style scoped>\n",
       "    .dataframe tbody tr th:only-of-type {\n",
       "        vertical-align: middle;\n",
       "    }\n",
       "\n",
       "    .dataframe tbody tr th {\n",
       "        vertical-align: top;\n",
       "    }\n",
       "\n",
       "    .dataframe thead th {\n",
       "        text-align: right;\n",
       "    }\n",
       "</style>\n",
       "<table border=\"1\" class=\"dataframe\">\n",
       "  <thead>\n",
       "    <tr style=\"text-align: right;\">\n",
       "      <th></th>\n",
       "      <th>FIPS</th>\n",
       "      <th>total</th>\n",
       "      <th>white</th>\n",
       "      <th>black</th>\n",
       "      <th>american_indian</th>\n",
       "      <th>asian</th>\n",
       "      <th>hawaiian</th>\n",
       "      <th>other</th>\n",
       "      <th>two_or_more</th>\n",
       "      <th>white_not_hispanic</th>\n",
       "      <th>hispanic</th>\n",
       "    </tr>\n",
       "  </thead>\n",
       "  <tbody>\n",
       "    <tr>\n",
       "      <th>0</th>\n",
       "      <td>06037101110</td>\n",
       "      <td>816</td>\n",
       "      <td>587</td>\n",
       "      <td>26</td>\n",
       "      <td>0</td>\n",
       "      <td>19</td>\n",
       "      <td>0</td>\n",
       "      <td>155</td>\n",
       "      <td>29</td>\n",
       "      <td>483</td>\n",
       "      <td>282</td>\n",
       "    </tr>\n",
       "    <tr>\n",
       "      <th>1</th>\n",
       "      <td>06037101122</td>\n",
       "      <td>230</td>\n",
       "      <td>211</td>\n",
       "      <td>0</td>\n",
       "      <td>0</td>\n",
       "      <td>19</td>\n",
       "      <td>0</td>\n",
       "      <td>0</td>\n",
       "      <td>0</td>\n",
       "      <td>177</td>\n",
       "      <td>34</td>\n",
       "    </tr>\n",
       "    <tr>\n",
       "      <th>2</th>\n",
       "      <td>06037101210</td>\n",
       "      <td>1975</td>\n",
       "      <td>1551</td>\n",
       "      <td>69</td>\n",
       "      <td>0</td>\n",
       "      <td>61</td>\n",
       "      <td>0</td>\n",
       "      <td>272</td>\n",
       "      <td>22</td>\n",
       "      <td>987</td>\n",
       "      <td>836</td>\n",
       "    </tr>\n",
       "    <tr>\n",
       "      <th>3</th>\n",
       "      <td>06037101220</td>\n",
       "      <td>808</td>\n",
       "      <td>532</td>\n",
       "      <td>11</td>\n",
       "      <td>0</td>\n",
       "      <td>112</td>\n",
       "      <td>0</td>\n",
       "      <td>90</td>\n",
       "      <td>63</td>\n",
       "      <td>428</td>\n",
       "      <td>177</td>\n",
       "    </tr>\n",
       "    <tr>\n",
       "      <th>4</th>\n",
       "      <td>06037101300</td>\n",
       "      <td>171</td>\n",
       "      <td>112</td>\n",
       "      <td>0</td>\n",
       "      <td>0</td>\n",
       "      <td>25</td>\n",
       "      <td>0</td>\n",
       "      <td>26</td>\n",
       "      <td>8</td>\n",
       "      <td>112</td>\n",
       "      <td>34</td>\n",
       "    </tr>\n",
       "  </tbody>\n",
       "</table>\n",
       "</div>"
      ],
      "text/plain": [
       "          FIPS  total  white  black  american_indian  asian  hawaiian  other  \\\n",
       "0  06037101110    816    587     26                0     19         0    155   \n",
       "1  06037101122    230    211      0                0     19         0      0   \n",
       "2  06037101210   1975   1551     69                0     61         0    272   \n",
       "3  06037101220    808    532     11                0    112         0     90   \n",
       "4  06037101300    171    112      0                0     25         0     26   \n",
       "\n",
       "   two_or_more  white_not_hispanic  hispanic  \n",
       "0           29                 483       282  \n",
       "1            0                 177        34  \n",
       "2           22                 987       836  \n",
       "3           63                 428       177  \n",
       "4            8                 112        34  "
      ]
     },
     "execution_count": 340,
     "metadata": {},
     "output_type": "execute_result"
    }
   ],
   "source": [
    "# have a look at demographic data and truncate the columns to relevant races\n",
    "tracts_race_17.head()"
   ]
  },
  {
   "cell_type": "code",
   "execution_count": 341,
   "id": "72f5a22f-de57-469f-9896-dadfa54edcc0",
   "metadata": {},
   "outputs": [
    {
     "name": "stdout",
     "output_type": "stream",
     "text": [
      "<class 'pandas.core.frame.DataFrame'>\n",
      "RangeIndex: 2346 entries, 0 to 2345\n",
      "Data columns (total 6 columns):\n",
      " #   Column    Non-Null Count  Dtype \n",
      "---  ------    --------------  ----- \n",
      " 0   FIPS      2346 non-null   object\n",
      " 1   total     2346 non-null   int64 \n",
      " 2   white     2346 non-null   int64 \n",
      " 3   black     2346 non-null   int64 \n",
      " 4   asian     2346 non-null   int64 \n",
      " 5   hispanic  2346 non-null   int64 \n",
      "dtypes: int64(5), object(1)\n",
      "memory usage: 110.1+ KB\n"
     ]
    }
   ],
   "source": [
    "tracts_race_17 = tracts_race_17[['FIPS','total','white','black','asian','hispanic']]\n",
    "tracts_race_17.info()"
   ]
  },
  {
   "cell_type": "code",
   "execution_count": 342,
   "id": "07376f9f-1c07-4883-b298-ca4e743ec5b6",
   "metadata": {},
   "outputs": [
    {
     "data": {
      "text/html": [
       "<div>\n",
       "<style scoped>\n",
       "    .dataframe tbody tr th:only-of-type {\n",
       "        vertical-align: middle;\n",
       "    }\n",
       "\n",
       "    .dataframe tbody tr th {\n",
       "        vertical-align: top;\n",
       "    }\n",
       "\n",
       "    .dataframe thead th {\n",
       "        text-align: right;\n",
       "    }\n",
       "</style>\n",
       "<table border=\"1\" class=\"dataframe\">\n",
       "  <thead>\n",
       "    <tr style=\"text-align: right;\">\n",
       "      <th></th>\n",
       "      <th>total</th>\n",
       "      <th>white</th>\n",
       "      <th>black</th>\n",
       "      <th>asian</th>\n",
       "      <th>hispanic</th>\n",
       "    </tr>\n",
       "  </thead>\n",
       "  <tbody>\n",
       "    <tr>\n",
       "      <th>count</th>\n",
       "      <td>2346.000000</td>\n",
       "      <td>2346.000000</td>\n",
       "      <td>2346.000000</td>\n",
       "      <td>2346.000000</td>\n",
       "      <td>2346.000000</td>\n",
       "    </tr>\n",
       "    <tr>\n",
       "      <th>mean</th>\n",
       "      <td>759.946292</td>\n",
       "      <td>391.991475</td>\n",
       "      <td>90.564791</td>\n",
       "      <td>97.823956</td>\n",
       "      <td>322.075021</td>\n",
       "    </tr>\n",
       "    <tr>\n",
       "      <th>std</th>\n",
       "      <td>540.569609</td>\n",
       "      <td>375.060942</td>\n",
       "      <td>158.609728</td>\n",
       "      <td>147.734555</td>\n",
       "      <td>260.780234</td>\n",
       "    </tr>\n",
       "    <tr>\n",
       "      <th>min</th>\n",
       "      <td>0.000000</td>\n",
       "      <td>0.000000</td>\n",
       "      <td>0.000000</td>\n",
       "      <td>0.000000</td>\n",
       "      <td>0.000000</td>\n",
       "    </tr>\n",
       "    <tr>\n",
       "      <th>25%</th>\n",
       "      <td>352.500000</td>\n",
       "      <td>146.000000</td>\n",
       "      <td>0.000000</td>\n",
       "      <td>7.000000</td>\n",
       "      <td>102.000000</td>\n",
       "    </tr>\n",
       "    <tr>\n",
       "      <th>50%</th>\n",
       "      <td>674.500000</td>\n",
       "      <td>279.000000</td>\n",
       "      <td>33.000000</td>\n",
       "      <td>43.000000</td>\n",
       "      <td>268.000000</td>\n",
       "    </tr>\n",
       "    <tr>\n",
       "      <th>75%</th>\n",
       "      <td>1030.750000</td>\n",
       "      <td>518.500000</td>\n",
       "      <td>108.750000</td>\n",
       "      <td>123.750000</td>\n",
       "      <td>494.750000</td>\n",
       "    </tr>\n",
       "    <tr>\n",
       "      <th>max</th>\n",
       "      <td>5200.000000</td>\n",
       "      <td>3971.000000</td>\n",
       "      <td>1926.000000</td>\n",
       "      <td>1389.000000</td>\n",
       "      <td>1240.000000</td>\n",
       "    </tr>\n",
       "  </tbody>\n",
       "</table>\n",
       "</div>"
      ],
      "text/plain": [
       "             total        white        black        asian     hispanic\n",
       "count  2346.000000  2346.000000  2346.000000  2346.000000  2346.000000\n",
       "mean    759.946292   391.991475    90.564791    97.823956   322.075021\n",
       "std     540.569609   375.060942   158.609728   147.734555   260.780234\n",
       "min       0.000000     0.000000     0.000000     0.000000     0.000000\n",
       "25%     352.500000   146.000000     0.000000     7.000000   102.000000\n",
       "50%     674.500000   279.000000    33.000000    43.000000   268.000000\n",
       "75%    1030.750000   518.500000   108.750000   123.750000   494.750000\n",
       "max    5200.000000  3971.000000  1926.000000  1389.000000  1240.000000"
      ]
     },
     "execution_count": 342,
     "metadata": {},
     "output_type": "execute_result"
    }
   ],
   "source": [
    "tracts_race_17.describe()"
   ]
  },
  {
   "cell_type": "code",
   "execution_count": 343,
   "id": "ee60a4bc-dbd7-4034-a9f5-9b24f4fdb5e8",
   "metadata": {},
   "outputs": [
    {
     "data": {
      "text/html": [
       "<div>\n",
       "<style scoped>\n",
       "    .dataframe tbody tr th:only-of-type {\n",
       "        vertical-align: middle;\n",
       "    }\n",
       "\n",
       "    .dataframe tbody tr th {\n",
       "        vertical-align: top;\n",
       "    }\n",
       "\n",
       "    .dataframe thead th {\n",
       "        text-align: right;\n",
       "    }\n",
       "</style>\n",
       "<table border=\"1\" class=\"dataframe\">\n",
       "  <thead>\n",
       "    <tr style=\"text-align: right;\">\n",
       "      <th></th>\n",
       "      <th>Geo_FIPS</th>\n",
       "      <th>total_housing_units</th>\n",
       "      <th>white</th>\n",
       "      <th>black</th>\n",
       "      <th>american_indian_alone</th>\n",
       "      <th>asian</th>\n",
       "      <th>native_hawaiian_alone</th>\n",
       "      <th>other</th>\n",
       "      <th>two_or_more</th>\n",
       "      <th>white_alone_not_hisp</th>\n",
       "      <th>hispanic</th>\n",
       "      <th>total</th>\n",
       "      <th>rent_burden</th>\n",
       "      <th>FIPS</th>\n",
       "    </tr>\n",
       "  </thead>\n",
       "  <tbody>\n",
       "    <tr>\n",
       "      <th>0</th>\n",
       "      <td>6037101110</td>\n",
       "      <td>644</td>\n",
       "      <td>438</td>\n",
       "      <td>0</td>\n",
       "      <td>0</td>\n",
       "      <td>58</td>\n",
       "      <td>0</td>\n",
       "      <td>52</td>\n",
       "      <td>96</td>\n",
       "      <td>372</td>\n",
       "      <td>207</td>\n",
       "      <td>3879</td>\n",
       "      <td>0.549689</td>\n",
       "      <td>06037101110</td>\n",
       "    </tr>\n",
       "    <tr>\n",
       "      <th>1</th>\n",
       "      <td>6037101122</td>\n",
       "      <td>344</td>\n",
       "      <td>287</td>\n",
       "      <td>0</td>\n",
       "      <td>0</td>\n",
       "      <td>0</td>\n",
       "      <td>0</td>\n",
       "      <td>33</td>\n",
       "      <td>24</td>\n",
       "      <td>287</td>\n",
       "      <td>33</td>\n",
       "      <td>4247</td>\n",
       "      <td>0.706395</td>\n",
       "      <td>06037101122</td>\n",
       "    </tr>\n",
       "    <tr>\n",
       "      <th>2</th>\n",
       "      <td>6037101220</td>\n",
       "      <td>762</td>\n",
       "      <td>450</td>\n",
       "      <td>8</td>\n",
       "      <td>16</td>\n",
       "      <td>48</td>\n",
       "      <td>0</td>\n",
       "      <td>110</td>\n",
       "      <td>130</td>\n",
       "      <td>394</td>\n",
       "      <td>285</td>\n",
       "      <td>3583</td>\n",
       "      <td>0.535433</td>\n",
       "      <td>06037101220</td>\n",
       "    </tr>\n",
       "    <tr>\n",
       "      <th>3</th>\n",
       "      <td>6037101221</td>\n",
       "      <td>1140</td>\n",
       "      <td>815</td>\n",
       "      <td>68</td>\n",
       "      <td>0</td>\n",
       "      <td>25</td>\n",
       "      <td>0</td>\n",
       "      <td>178</td>\n",
       "      <td>54</td>\n",
       "      <td>747</td>\n",
       "      <td>269</td>\n",
       "      <td>3723</td>\n",
       "      <td>0.663158</td>\n",
       "      <td>06037101221</td>\n",
       "    </tr>\n",
       "    <tr>\n",
       "      <th>4</th>\n",
       "      <td>6037101222</td>\n",
       "      <td>816</td>\n",
       "      <td>715</td>\n",
       "      <td>17</td>\n",
       "      <td>0</td>\n",
       "      <td>28</td>\n",
       "      <td>17</td>\n",
       "      <td>28</td>\n",
       "      <td>11</td>\n",
       "      <td>515</td>\n",
       "      <td>239</td>\n",
       "      <td>2690</td>\n",
       "      <td>0.651961</td>\n",
       "      <td>06037101222</td>\n",
       "    </tr>\n",
       "  </tbody>\n",
       "</table>\n",
       "</div>"
      ],
      "text/plain": [
       "     Geo_FIPS  total_housing_units  white  black  american_indian_alone  \\\n",
       "0  6037101110                  644    438      0                      0   \n",
       "1  6037101122                  344    287      0                      0   \n",
       "2  6037101220                  762    450      8                     16   \n",
       "3  6037101221                 1140    815     68                      0   \n",
       "4  6037101222                  816    715     17                      0   \n",
       "\n",
       "   asian  native_hawaiian_alone  other  two_or_more  white_alone_not_hisp  \\\n",
       "0     58                      0     52           96                   372   \n",
       "1      0                      0     33           24                   287   \n",
       "2     48                      0    110          130                   394   \n",
       "3     25                      0    178           54                   747   \n",
       "4     28                     17     28           11                   515   \n",
       "\n",
       "   hispanic  total  rent_burden         FIPS  \n",
       "0       207   3879     0.549689  06037101110  \n",
       "1        33   4247     0.706395  06037101122  \n",
       "2       285   3583     0.535433  06037101220  \n",
       "3       269   3723     0.663158  06037101221  \n",
       "4       239   2690     0.651961  06037101222  "
      ]
     },
     "execution_count": 343,
     "metadata": {},
     "output_type": "execute_result"
    }
   ],
   "source": [
    "tracts_race_21.head()"
   ]
  },
  {
   "cell_type": "code",
   "execution_count": 344,
   "id": "10f8957f-9f7e-4a0a-a3e2-aaf0811a7d4d",
   "metadata": {},
   "outputs": [
    {
     "name": "stdout",
     "output_type": "stream",
     "text": [
      "<class 'pandas.core.frame.DataFrame'>\n",
      "RangeIndex: 2498 entries, 0 to 2497\n",
      "Data columns (total 6 columns):\n",
      " #   Column    Non-Null Count  Dtype \n",
      "---  ------    --------------  ----- \n",
      " 0   FIPS      2498 non-null   object\n",
      " 1   total     2498 non-null   int64 \n",
      " 2   white     2498 non-null   int64 \n",
      " 3   black     2498 non-null   int64 \n",
      " 4   asian     2498 non-null   int64 \n",
      " 5   hispanic  2498 non-null   int64 \n",
      "dtypes: int64(5), object(1)\n",
      "memory usage: 117.2+ KB\n"
     ]
    }
   ],
   "source": [
    "tracts_race_21 = tracts_race_21[['FIPS','total','white','black','asian','hispanic']]\n",
    "tracts_race_21.info()"
   ]
  },
  {
   "cell_type": "code",
   "execution_count": 345,
   "id": "839504b9-9a65-42ea-9628-dd4a6c829649",
   "metadata": {},
   "outputs": [
    {
     "data": {
      "text/html": [
       "<div>\n",
       "<style scoped>\n",
       "    .dataframe tbody tr th:only-of-type {\n",
       "        vertical-align: middle;\n",
       "    }\n",
       "\n",
       "    .dataframe tbody tr th {\n",
       "        vertical-align: top;\n",
       "    }\n",
       "\n",
       "    .dataframe thead th {\n",
       "        text-align: right;\n",
       "    }\n",
       "</style>\n",
       "<table border=\"1\" class=\"dataframe\">\n",
       "  <thead>\n",
       "    <tr style=\"text-align: right;\">\n",
       "      <th></th>\n",
       "      <th>total</th>\n",
       "      <th>white</th>\n",
       "      <th>black</th>\n",
       "      <th>asian</th>\n",
       "      <th>hispanic</th>\n",
       "    </tr>\n",
       "  </thead>\n",
       "  <tbody>\n",
       "    <tr>\n",
       "      <th>count</th>\n",
       "      <td>2498.00000</td>\n",
       "      <td>2498.000000</td>\n",
       "      <td>2498.000000</td>\n",
       "      <td>2498.000000</td>\n",
       "      <td>2498.000000</td>\n",
       "    </tr>\n",
       "    <tr>\n",
       "      <th>mean</th>\n",
       "      <td>4011.06285</td>\n",
       "      <td>325.362690</td>\n",
       "      <td>83.418335</td>\n",
       "      <td>91.768615</td>\n",
       "      <td>309.367894</td>\n",
       "    </tr>\n",
       "    <tr>\n",
       "      <th>std</th>\n",
       "      <td>1470.99188</td>\n",
       "      <td>323.090646</td>\n",
       "      <td>139.218466</td>\n",
       "      <td>139.523622</td>\n",
       "      <td>252.803726</td>\n",
       "    </tr>\n",
       "    <tr>\n",
       "      <th>min</th>\n",
       "      <td>0.00000</td>\n",
       "      <td>0.000000</td>\n",
       "      <td>0.000000</td>\n",
       "      <td>0.000000</td>\n",
       "      <td>0.000000</td>\n",
       "    </tr>\n",
       "    <tr>\n",
       "      <th>25%</th>\n",
       "      <td>2993.25000</td>\n",
       "      <td>117.000000</td>\n",
       "      <td>0.000000</td>\n",
       "      <td>6.000000</td>\n",
       "      <td>104.000000</td>\n",
       "    </tr>\n",
       "    <tr>\n",
       "      <th>50%</th>\n",
       "      <td>3933.00000</td>\n",
       "      <td>225.500000</td>\n",
       "      <td>33.000000</td>\n",
       "      <td>41.000000</td>\n",
       "      <td>250.500000</td>\n",
       "    </tr>\n",
       "    <tr>\n",
       "      <th>75%</th>\n",
       "      <td>4954.00000</td>\n",
       "      <td>426.000000</td>\n",
       "      <td>104.000000</td>\n",
       "      <td>120.000000</td>\n",
       "      <td>474.750000</td>\n",
       "    </tr>\n",
       "    <tr>\n",
       "      <th>max</th>\n",
       "      <td>13830.00000</td>\n",
       "      <td>3474.000000</td>\n",
       "      <td>1218.000000</td>\n",
       "      <td>1442.000000</td>\n",
       "      <td>1326.000000</td>\n",
       "    </tr>\n",
       "  </tbody>\n",
       "</table>\n",
       "</div>"
      ],
      "text/plain": [
       "             total        white        black        asian     hispanic\n",
       "count   2498.00000  2498.000000  2498.000000  2498.000000  2498.000000\n",
       "mean    4011.06285   325.362690    83.418335    91.768615   309.367894\n",
       "std     1470.99188   323.090646   139.218466   139.523622   252.803726\n",
       "min        0.00000     0.000000     0.000000     0.000000     0.000000\n",
       "25%     2993.25000   117.000000     0.000000     6.000000   104.000000\n",
       "50%     3933.00000   225.500000    33.000000    41.000000   250.500000\n",
       "75%     4954.00000   426.000000   104.000000   120.000000   474.750000\n",
       "max    13830.00000  3474.000000  1218.000000  1442.000000  1326.000000"
      ]
     },
     "execution_count": 345,
     "metadata": {},
     "output_type": "execute_result"
    }
   ],
   "source": [
    "tracts_race_21.describe()"
   ]
  },
  {
   "cell_type": "code",
   "execution_count": 346,
   "id": "b026efa6-d531-486b-8d00-77d9134b01bc",
   "metadata": {},
   "outputs": [
    {
     "name": "stdout",
     "output_type": "stream",
     "text": [
      "152\n"
     ]
    }
   ],
   "source": [
    "# 2021 data has more census tracts\n",
    "print(2498-2346)"
   ]
  },
  {
   "cell_type": "code",
   "execution_count": 347,
   "id": "e548df7b-318f-4840-b931-8e9054135a27",
   "metadata": {},
   "outputs": [
    {
     "name": "stdout",
     "output_type": "stream",
     "text": [
      "<class 'pandas.core.frame.DataFrame'>\n",
      "Int64Index: 2022 entries, 0 to 2021\n",
      "Data columns (total 12 columns):\n",
      " #   Column         Non-Null Count  Dtype   \n",
      "---  ------         --------------  -----   \n",
      " 0   FIPS           2022 non-null   object  \n",
      " 1   total_2017     2022 non-null   int64   \n",
      " 2   white_2017     2022 non-null   int64   \n",
      " 3   black_2017     2022 non-null   int64   \n",
      " 4   asian_2017     2022 non-null   int64   \n",
      " 5   hispanic_2017  2022 non-null   int64   \n",
      " 6   total_2021     2022 non-null   int64   \n",
      " 7   white_2021     2022 non-null   int64   \n",
      " 8   black_2021     2022 non-null   int64   \n",
      " 9   asian_2021     2022 non-null   int64   \n",
      " 10  hispanic_2021  2022 non-null   int64   \n",
      " 11  _merge         2022 non-null   category\n",
      "dtypes: category(1), int64(10), object(1)\n",
      "memory usage: 191.7+ KB\n"
     ]
    }
   ],
   "source": [
    "# figure out what to do about 152 census tract discrepancy \n",
    "# merge &  drop the rows that don't match and then append\n",
    "race_merge = tracts_race_17.merge(tracts_race_21, on='FIPS',\n",
    "                                  suffixes=('_2017', '_2021'),\n",
    "                                 indicator=True)\n",
    "race_merge = race_merge[race_merge['_merge'] == 'both']\n",
    "race_merge.info()"
   ]
  },
  {
   "cell_type": "code",
   "execution_count": 348,
   "id": "509fbdc1-11db-47f9-a655-8553a767cda4",
   "metadata": {},
   "outputs": [],
   "source": [
    "# now disaggregatge to make the dataset long instead of wide to prepare for appending\n",
    "ct_21 = race_merge[['FIPS','total_2021','white_2021','black_2021', 'asian_2021', 'hispanic_2021']]\n",
    "ct_21.rename(columns={'total_2021': 'total','white_2021':'white','black_2021':\n",
    "                               'black','asian_2021':'asian','hispanic_2021':'hispanic' }, inplace=True)\n",
    "ct_17 = race_merge.drop(columns=['_merge','total_2021','white_2021','black_2021', 'asian_2021', 'hispanic_2021'])\n",
    "ct_17.rename(columns={'total_2017': 'total','white_2017':'white','black_2017':\n",
    "                               'black','asian_2017':'asian','hispanic_2017':'hispanic' }, inplace=True)"
   ]
  },
  {
   "cell_type": "code",
   "execution_count": 349,
   "id": "8c2fa33b-0dd0-4fdf-9a4f-4d8f09102796",
   "metadata": {},
   "outputs": [
    {
     "data": {
      "text/html": [
       "<div>\n",
       "<style scoped>\n",
       "    .dataframe tbody tr th:only-of-type {\n",
       "        vertical-align: middle;\n",
       "    }\n",
       "\n",
       "    .dataframe tbody tr th {\n",
       "        vertical-align: top;\n",
       "    }\n",
       "\n",
       "    .dataframe thead th {\n",
       "        text-align: right;\n",
       "    }\n",
       "</style>\n",
       "<table border=\"1\" class=\"dataframe\">\n",
       "  <thead>\n",
       "    <tr style=\"text-align: right;\">\n",
       "      <th></th>\n",
       "      <th>FIPS</th>\n",
       "      <th>total</th>\n",
       "      <th>white</th>\n",
       "      <th>black</th>\n",
       "      <th>asian</th>\n",
       "      <th>hispanic</th>\n",
       "      <th>year</th>\n",
       "    </tr>\n",
       "  </thead>\n",
       "  <tbody>\n",
       "    <tr>\n",
       "      <th>0</th>\n",
       "      <td>06037101110</td>\n",
       "      <td>816</td>\n",
       "      <td>587</td>\n",
       "      <td>26</td>\n",
       "      <td>19</td>\n",
       "      <td>282</td>\n",
       "      <td>2017</td>\n",
       "    </tr>\n",
       "    <tr>\n",
       "      <th>1</th>\n",
       "      <td>06037101122</td>\n",
       "      <td>230</td>\n",
       "      <td>211</td>\n",
       "      <td>0</td>\n",
       "      <td>19</td>\n",
       "      <td>34</td>\n",
       "      <td>2017</td>\n",
       "    </tr>\n",
       "    <tr>\n",
       "      <th>2</th>\n",
       "      <td>06037101220</td>\n",
       "      <td>808</td>\n",
       "      <td>532</td>\n",
       "      <td>11</td>\n",
       "      <td>112</td>\n",
       "      <td>177</td>\n",
       "      <td>2017</td>\n",
       "    </tr>\n",
       "    <tr>\n",
       "      <th>3</th>\n",
       "      <td>06037101300</td>\n",
       "      <td>171</td>\n",
       "      <td>112</td>\n",
       "      <td>0</td>\n",
       "      <td>25</td>\n",
       "      <td>34</td>\n",
       "      <td>2017</td>\n",
       "    </tr>\n",
       "    <tr>\n",
       "      <th>4</th>\n",
       "      <td>06037101400</td>\n",
       "      <td>460</td>\n",
       "      <td>364</td>\n",
       "      <td>0</td>\n",
       "      <td>35</td>\n",
       "      <td>216</td>\n",
       "      <td>2017</td>\n",
       "    </tr>\n",
       "    <tr>\n",
       "      <th>...</th>\n",
       "      <td>...</td>\n",
       "      <td>...</td>\n",
       "      <td>...</td>\n",
       "      <td>...</td>\n",
       "      <td>...</td>\n",
       "      <td>...</td>\n",
       "      <td>...</td>\n",
       "    </tr>\n",
       "    <tr>\n",
       "      <th>2017</th>\n",
       "      <td>06037980031</td>\n",
       "      <td>1160</td>\n",
       "      <td>10</td>\n",
       "      <td>0</td>\n",
       "      <td>0</td>\n",
       "      <td>10</td>\n",
       "      <td>2021</td>\n",
       "    </tr>\n",
       "    <tr>\n",
       "      <th>2018</th>\n",
       "      <td>06037980033</td>\n",
       "      <td>13</td>\n",
       "      <td>0</td>\n",
       "      <td>0</td>\n",
       "      <td>0</td>\n",
       "      <td>0</td>\n",
       "      <td>2021</td>\n",
       "    </tr>\n",
       "    <tr>\n",
       "      <th>2019</th>\n",
       "      <td>06037990100</td>\n",
       "      <td>0</td>\n",
       "      <td>0</td>\n",
       "      <td>0</td>\n",
       "      <td>0</td>\n",
       "      <td>0</td>\n",
       "      <td>2021</td>\n",
       "    </tr>\n",
       "    <tr>\n",
       "      <th>2020</th>\n",
       "      <td>06037990200</td>\n",
       "      <td>0</td>\n",
       "      <td>0</td>\n",
       "      <td>0</td>\n",
       "      <td>0</td>\n",
       "      <td>0</td>\n",
       "      <td>2021</td>\n",
       "    </tr>\n",
       "    <tr>\n",
       "      <th>2021</th>\n",
       "      <td>06037990300</td>\n",
       "      <td>0</td>\n",
       "      <td>0</td>\n",
       "      <td>0</td>\n",
       "      <td>0</td>\n",
       "      <td>0</td>\n",
       "      <td>2021</td>\n",
       "    </tr>\n",
       "  </tbody>\n",
       "</table>\n",
       "<p>4044 rows × 7 columns</p>\n",
       "</div>"
      ],
      "text/plain": [
       "             FIPS  total  white  black  asian  hispanic  year\n",
       "0     06037101110    816    587     26     19       282  2017\n",
       "1     06037101122    230    211      0     19        34  2017\n",
       "2     06037101220    808    532     11    112       177  2017\n",
       "3     06037101300    171    112      0     25        34  2017\n",
       "4     06037101400    460    364      0     35       216  2017\n",
       "...           ...    ...    ...    ...    ...       ...   ...\n",
       "2017  06037980031   1160     10      0      0        10  2021\n",
       "2018  06037980033     13      0      0      0         0  2021\n",
       "2019  06037990100      0      0      0      0         0  2021\n",
       "2020  06037990200      0      0      0      0         0  2021\n",
       "2021  06037990300      0      0      0      0         0  2021\n",
       "\n",
       "[4044 rows x 7 columns]"
      ]
     },
     "execution_count": 349,
     "metadata": {},
     "output_type": "execute_result"
    }
   ],
   "source": [
    "# add column for year for each demographic dataset\n",
    "ct_17['year']=2017\n",
    "ct_21['year']=2021\n",
    "# demogaphic information is ready to be appended\n",
    "ct_race=ct_17.append(ct_21)\n",
    "# 10 year census tract data for understanding of demograhic shifts\n",
    "ct_race.sort_values(by=['year','FIPS'])\n",
    "ct_race"
   ]
  },
  {
   "cell_type": "code",
   "execution_count": 350,
   "id": "8e1aeb82-a1b1-44e0-9586-bac9fe8cb21e",
   "metadata": {
    "tags": []
   },
   "outputs": [
    {
     "name": "stdout",
     "output_type": "stream",
     "text": [
      "<class 'geopandas.geodataframe.GeoDataFrame'>\n",
      "Int64Index: 4038 entries, 0 to 4037\n",
      "Data columns (total 9 columns):\n",
      " #   Column    Non-Null Count  Dtype   \n",
      "---  ------    --------------  -----   \n",
      " 0   CT20      4038 non-null   object  \n",
      " 1   geometry  4038 non-null   geometry\n",
      " 2   FIPS      4038 non-null   object  \n",
      " 3   total     4038 non-null   int64   \n",
      " 4   white     4038 non-null   int64   \n",
      " 5   black     4038 non-null   int64   \n",
      " 6   asian     4038 non-null   int64   \n",
      " 7   hispanic  4038 non-null   int64   \n",
      " 8   year      4038 non-null   int64   \n",
      "dtypes: geometry(1), int64(6), object(2)\n",
      "memory usage: 315.5+ KB\n"
     ]
    }
   ],
   "source": [
    "# merge in census shapefile\n",
    "tracts=gpd.read_file('data/Census_Tracts_2020.geojson')\n",
    "tracts = tracts[['CT20','geometry']]\n",
    "tracts['FIPS'] ='06' + '037' + tracts['CT20']\n",
    "tracts.head()\n",
    "spatial_race=tracts.merge(ct_race, on='FIPS')\n",
    "spatial_race.info()"
   ]
  },
  {
   "cell_type": "code",
   "execution_count": 351,
   "id": "0544c86f-0b0f-498d-a09e-5a704c2d6f5e",
   "metadata": {},
   "outputs": [
    {
     "data": {
      "text/html": [
       "<div>\n",
       "<style scoped>\n",
       "    .dataframe tbody tr th:only-of-type {\n",
       "        vertical-align: middle;\n",
       "    }\n",
       "\n",
       "    .dataframe tbody tr th {\n",
       "        vertical-align: top;\n",
       "    }\n",
       "\n",
       "    .dataframe thead th {\n",
       "        text-align: right;\n",
       "    }\n",
       "</style>\n",
       "<table border=\"1\" class=\"dataframe\">\n",
       "  <thead>\n",
       "    <tr style=\"text-align: right;\">\n",
       "      <th></th>\n",
       "      <th>OBJECTID</th>\n",
       "      <th>name</th>\n",
       "      <th>geometry</th>\n",
       "    </tr>\n",
       "  </thead>\n",
       "  <tbody>\n",
       "    <tr>\n",
       "      <th>0</th>\n",
       "      <td>1</td>\n",
       "      <td>Adams-Normandie</td>\n",
       "      <td>POLYGON ((-118.30069 34.03731, -118.30388 34.0...</td>\n",
       "    </tr>\n",
       "    <tr>\n",
       "      <th>1</th>\n",
       "      <td>2</td>\n",
       "      <td>Arleta</td>\n",
       "      <td>POLYGON ((-118.44255 34.26412, -118.44240 34.2...</td>\n",
       "    </tr>\n",
       "    <tr>\n",
       "      <th>2</th>\n",
       "      <td>3</td>\n",
       "      <td>Arlington Heights</td>\n",
       "      <td>POLYGON ((-118.31862 34.05306, -118.31673 34.0...</td>\n",
       "    </tr>\n",
       "    <tr>\n",
       "      <th>3</th>\n",
       "      <td>4</td>\n",
       "      <td>Atwater Village</td>\n",
       "      <td>MULTIPOLYGON (((-118.27886 34.15321, -118.2788...</td>\n",
       "    </tr>\n",
       "    <tr>\n",
       "      <th>4</th>\n",
       "      <td>5</td>\n",
       "      <td>Baldwin Hills/Crenshaw</td>\n",
       "      <td>POLYGON ((-118.36102 34.02532, -118.36026 34.0...</td>\n",
       "    </tr>\n",
       "  </tbody>\n",
       "</table>\n",
       "</div>"
      ],
      "text/plain": [
       "   OBJECTID                    name  \\\n",
       "0         1         Adams-Normandie   \n",
       "1         2                  Arleta   \n",
       "2         3       Arlington Heights   \n",
       "3         4         Atwater Village   \n",
       "4         5  Baldwin Hills/Crenshaw   \n",
       "\n",
       "                                            geometry  \n",
       "0  POLYGON ((-118.30069 34.03731, -118.30388 34.0...  \n",
       "1  POLYGON ((-118.44255 34.26412, -118.44240 34.2...  \n",
       "2  POLYGON ((-118.31862 34.05306, -118.31673 34.0...  \n",
       "3  MULTIPOLYGON (((-118.27886 34.15321, -118.2788...  \n",
       "4  POLYGON ((-118.36102 34.02532, -118.36026 34.0...  "
      ]
     },
     "execution_count": 351,
     "metadata": {},
     "output_type": "execute_result"
    }
   ],
   "source": [
    "# explore neighborhoods\n",
    "nbh.head()"
   ]
  },
  {
   "cell_type": "code",
   "execution_count": 352,
   "id": "f6de4a23-d32f-47dd-b690-17fd4d1b7aa0",
   "metadata": {},
   "outputs": [
    {
     "data": {
      "text/plain": [
       "<Geographic 2D CRS: EPSG:4326>\n",
       "Name: WGS 84\n",
       "Axis Info [ellipsoidal]:\n",
       "- Lat[north]: Geodetic latitude (degree)\n",
       "- Lon[east]: Geodetic longitude (degree)\n",
       "Area of Use:\n",
       "- name: World.\n",
       "- bounds: (-180.0, -90.0, 180.0, 90.0)\n",
       "Datum: World Geodetic System 1984 ensemble\n",
       "- Ellipsoid: WGS 84\n",
       "- Prime Meridian: Greenwich"
      ]
     },
     "execution_count": 352,
     "metadata": {},
     "output_type": "execute_result"
    }
   ],
   "source": [
    "nbh.crs"
   ]
  },
  {
   "cell_type": "code",
   "execution_count": 353,
   "id": "d3a714ee-d1bc-462f-8d61-59d567fd7dbd",
   "metadata": {},
   "outputs": [
    {
     "data": {
      "text/html": [
       "<div>\n",
       "<style scoped>\n",
       "    .dataframe tbody tr th:only-of-type {\n",
       "        vertical-align: middle;\n",
       "    }\n",
       "\n",
       "    .dataframe tbody tr th {\n",
       "        vertical-align: top;\n",
       "    }\n",
       "\n",
       "    .dataframe thead th {\n",
       "        text-align: right;\n",
       "    }\n",
       "</style>\n",
       "<table border=\"1\" class=\"dataframe\">\n",
       "  <thead>\n",
       "    <tr style=\"text-align: right;\">\n",
       "      <th></th>\n",
       "      <th>FIPS</th>\n",
       "      <th>total</th>\n",
       "      <th>white</th>\n",
       "      <th>black</th>\n",
       "      <th>asian</th>\n",
       "      <th>hispanic</th>\n",
       "      <th>year</th>\n",
       "      <th>geometry</th>\n",
       "    </tr>\n",
       "  </thead>\n",
       "  <tbody>\n",
       "    <tr>\n",
       "      <th>0</th>\n",
       "      <td>06037101110</td>\n",
       "      <td>816</td>\n",
       "      <td>587</td>\n",
       "      <td>26</td>\n",
       "      <td>19</td>\n",
       "      <td>282</td>\n",
       "      <td>2017</td>\n",
       "      <td>POINT (-118.29300 34.25948)</td>\n",
       "    </tr>\n",
       "    <tr>\n",
       "      <th>1</th>\n",
       "      <td>06037101110</td>\n",
       "      <td>3879</td>\n",
       "      <td>438</td>\n",
       "      <td>0</td>\n",
       "      <td>58</td>\n",
       "      <td>207</td>\n",
       "      <td>2021</td>\n",
       "      <td>POINT (-118.29300 34.25948)</td>\n",
       "    </tr>\n",
       "    <tr>\n",
       "      <th>2</th>\n",
       "      <td>06037101122</td>\n",
       "      <td>230</td>\n",
       "      <td>211</td>\n",
       "      <td>0</td>\n",
       "      <td>19</td>\n",
       "      <td>34</td>\n",
       "      <td>2017</td>\n",
       "      <td>POINT (-118.29016 34.26773)</td>\n",
       "    </tr>\n",
       "    <tr>\n",
       "      <th>3</th>\n",
       "      <td>06037101122</td>\n",
       "      <td>4247</td>\n",
       "      <td>287</td>\n",
       "      <td>0</td>\n",
       "      <td>0</td>\n",
       "      <td>33</td>\n",
       "      <td>2021</td>\n",
       "      <td>POINT (-118.29016 34.26773)</td>\n",
       "    </tr>\n",
       "    <tr>\n",
       "      <th>4</th>\n",
       "      <td>06037101220</td>\n",
       "      <td>808</td>\n",
       "      <td>532</td>\n",
       "      <td>11</td>\n",
       "      <td>112</td>\n",
       "      <td>177</td>\n",
       "      <td>2017</td>\n",
       "      <td>POINT (-118.28164 34.25161)</td>\n",
       "    </tr>\n",
       "    <tr>\n",
       "      <th>5</th>\n",
       "      <td>06037101220</td>\n",
       "      <td>3583</td>\n",
       "      <td>450</td>\n",
       "      <td>8</td>\n",
       "      <td>48</td>\n",
       "      <td>285</td>\n",
       "      <td>2021</td>\n",
       "      <td>POINT (-118.28164 34.25161)</td>\n",
       "    </tr>\n",
       "    <tr>\n",
       "      <th>6</th>\n",
       "      <td>06037101300</td>\n",
       "      <td>171</td>\n",
       "      <td>112</td>\n",
       "      <td>0</td>\n",
       "      <td>25</td>\n",
       "      <td>34</td>\n",
       "      <td>2017</td>\n",
       "      <td>POINT (-118.27101 34.24878)</td>\n",
       "    </tr>\n",
       "    <tr>\n",
       "      <th>7</th>\n",
       "      <td>06037101300</td>\n",
       "      <td>4068</td>\n",
       "      <td>170</td>\n",
       "      <td>0</td>\n",
       "      <td>0</td>\n",
       "      <td>52</td>\n",
       "      <td>2021</td>\n",
       "      <td>POINT (-118.27101 34.24878)</td>\n",
       "    </tr>\n",
       "    <tr>\n",
       "      <th>8</th>\n",
       "      <td>06037101400</td>\n",
       "      <td>460</td>\n",
       "      <td>364</td>\n",
       "      <td>0</td>\n",
       "      <td>35</td>\n",
       "      <td>216</td>\n",
       "      <td>2017</td>\n",
       "      <td>POINT (-118.29417 34.24286)</td>\n",
       "    </tr>\n",
       "    <tr>\n",
       "      <th>9</th>\n",
       "      <td>06037101400</td>\n",
       "      <td>3372</td>\n",
       "      <td>353</td>\n",
       "      <td>0</td>\n",
       "      <td>34</td>\n",
       "      <td>68</td>\n",
       "      <td>2021</td>\n",
       "      <td>POINT (-118.29417 34.24286)</td>\n",
       "    </tr>\n",
       "    <tr>\n",
       "      <th>10</th>\n",
       "      <td>06037102103</td>\n",
       "      <td>244</td>\n",
       "      <td>208</td>\n",
       "      <td>0</td>\n",
       "      <td>5</td>\n",
       "      <td>50</td>\n",
       "      <td>2017</td>\n",
       "      <td>POINT (-118.35420 34.22508)</td>\n",
       "    </tr>\n",
       "    <tr>\n",
       "      <th>11</th>\n",
       "      <td>06037102103</td>\n",
       "      <td>1767</td>\n",
       "      <td>221</td>\n",
       "      <td>0</td>\n",
       "      <td>29</td>\n",
       "      <td>0</td>\n",
       "      <td>2021</td>\n",
       "      <td>POINT (-118.35420 34.22508)</td>\n",
       "    </tr>\n",
       "    <tr>\n",
       "      <th>12</th>\n",
       "      <td>06037102104</td>\n",
       "      <td>343</td>\n",
       "      <td>279</td>\n",
       "      <td>0</td>\n",
       "      <td>16</td>\n",
       "      <td>62</td>\n",
       "      <td>2017</td>\n",
       "      <td>POINT (-118.34541 34.21619)</td>\n",
       "    </tr>\n",
       "    <tr>\n",
       "      <th>13</th>\n",
       "      <td>06037102104</td>\n",
       "      <td>4003</td>\n",
       "      <td>257</td>\n",
       "      <td>10</td>\n",
       "      <td>22</td>\n",
       "      <td>62</td>\n",
       "      <td>2021</td>\n",
       "      <td>POINT (-118.34541 34.21619)</td>\n",
       "    </tr>\n",
       "    <tr>\n",
       "      <th>14</th>\n",
       "      <td>06037102105</td>\n",
       "      <td>301</td>\n",
       "      <td>151</td>\n",
       "      <td>12</td>\n",
       "      <td>34</td>\n",
       "      <td>172</td>\n",
       "      <td>2017</td>\n",
       "      <td>POINT (-118.34928 34.20988)</td>\n",
       "    </tr>\n",
       "    <tr>\n",
       "      <th>15</th>\n",
       "      <td>06037102105</td>\n",
       "      <td>1674</td>\n",
       "      <td>125</td>\n",
       "      <td>0</td>\n",
       "      <td>16</td>\n",
       "      <td>124</td>\n",
       "      <td>2021</td>\n",
       "      <td>POINT (-118.34928 34.20988)</td>\n",
       "    </tr>\n",
       "    <tr>\n",
       "      <th>16</th>\n",
       "      <td>06037102107</td>\n",
       "      <td>339</td>\n",
       "      <td>228</td>\n",
       "      <td>42</td>\n",
       "      <td>0</td>\n",
       "      <td>170</td>\n",
       "      <td>2017</td>\n",
       "      <td>POINT (-118.33802 34.24048)</td>\n",
       "    </tr>\n",
       "    <tr>\n",
       "      <th>17</th>\n",
       "      <td>06037102107</td>\n",
       "      <td>3920</td>\n",
       "      <td>217</td>\n",
       "      <td>43</td>\n",
       "      <td>0</td>\n",
       "      <td>99</td>\n",
       "      <td>2021</td>\n",
       "      <td>POINT (-118.33802 34.24048)</td>\n",
       "    </tr>\n",
       "    <tr>\n",
       "      <th>18</th>\n",
       "      <td>06037103101</td>\n",
       "      <td>171</td>\n",
       "      <td>165</td>\n",
       "      <td>0</td>\n",
       "      <td>0</td>\n",
       "      <td>0</td>\n",
       "      <td>2017</td>\n",
       "      <td>POINT (-118.30790 34.27325)</td>\n",
       "    </tr>\n",
       "    <tr>\n",
       "      <th>19</th>\n",
       "      <td>06037103101</td>\n",
       "      <td>2481</td>\n",
       "      <td>95</td>\n",
       "      <td>0</td>\n",
       "      <td>15</td>\n",
       "      <td>17</td>\n",
       "      <td>2021</td>\n",
       "      <td>POINT (-118.30790 34.27325)</td>\n",
       "    </tr>\n",
       "  </tbody>\n",
       "</table>\n",
       "</div>"
      ],
      "text/plain": [
       "           FIPS  total  white  black  asian  hispanic  year  \\\n",
       "0   06037101110    816    587     26     19       282  2017   \n",
       "1   06037101110   3879    438      0     58       207  2021   \n",
       "2   06037101122    230    211      0     19        34  2017   \n",
       "3   06037101122   4247    287      0      0        33  2021   \n",
       "4   06037101220    808    532     11    112       177  2017   \n",
       "5   06037101220   3583    450      8     48       285  2021   \n",
       "6   06037101300    171    112      0     25        34  2017   \n",
       "7   06037101300   4068    170      0      0        52  2021   \n",
       "8   06037101400    460    364      0     35       216  2017   \n",
       "9   06037101400   3372    353      0     34        68  2021   \n",
       "10  06037102103    244    208      0      5        50  2017   \n",
       "11  06037102103   1767    221      0     29         0  2021   \n",
       "12  06037102104    343    279      0     16        62  2017   \n",
       "13  06037102104   4003    257     10     22        62  2021   \n",
       "14  06037102105    301    151     12     34       172  2017   \n",
       "15  06037102105   1674    125      0     16       124  2021   \n",
       "16  06037102107    339    228     42      0       170  2017   \n",
       "17  06037102107   3920    217     43      0        99  2021   \n",
       "18  06037103101    171    165      0      0         0  2017   \n",
       "19  06037103101   2481     95      0     15        17  2021   \n",
       "\n",
       "                       geometry  \n",
       "0   POINT (-118.29300 34.25948)  \n",
       "1   POINT (-118.29300 34.25948)  \n",
       "2   POINT (-118.29016 34.26773)  \n",
       "3   POINT (-118.29016 34.26773)  \n",
       "4   POINT (-118.28164 34.25161)  \n",
       "5   POINT (-118.28164 34.25161)  \n",
       "6   POINT (-118.27101 34.24878)  \n",
       "7   POINT (-118.27101 34.24878)  \n",
       "8   POINT (-118.29417 34.24286)  \n",
       "9   POINT (-118.29417 34.24286)  \n",
       "10  POINT (-118.35420 34.22508)  \n",
       "11  POINT (-118.35420 34.22508)  \n",
       "12  POINT (-118.34541 34.21619)  \n",
       "13  POINT (-118.34541 34.21619)  \n",
       "14  POINT (-118.34928 34.20988)  \n",
       "15  POINT (-118.34928 34.20988)  \n",
       "16  POINT (-118.33802 34.24048)  \n",
       "17  POINT (-118.33802 34.24048)  \n",
       "18  POINT (-118.30790 34.27325)  \n",
       "19  POINT (-118.30790 34.27325)  "
      ]
     },
     "execution_count": 353,
     "metadata": {},
     "output_type": "execute_result"
    }
   ],
   "source": [
    "# prepare demographic data for spatial join with neighborhoods\n",
    "# first adjust census data to point data \n",
    "spatial_race = spatial_race.to_crs(4326)\n",
    "spatial_race['Centroid']=spatial_race.to_crs('+proj=cea').centroid.to_crs(spatial_race.crs)\n",
    "spatial_race_1 = spatial_race.to_crs(4326)\n",
    "spatial_race_1 = spatial_race_1.drop(columns=['CT20','geometry'])\n",
    "spatial_race_1.rename(columns={'Centroid': 'geometry'}, inplace=True)\n",
    "spatial_race_1.head(20)"
   ]
  },
  {
   "cell_type": "code",
   "execution_count": 354,
   "id": "a4705a24-d483-4f66-a13c-8dd5c3fa54ef",
   "metadata": {},
   "outputs": [
    {
     "data": {
      "text/html": [
       "<div>\n",
       "<style scoped>\n",
       "    .dataframe tbody tr th:only-of-type {\n",
       "        vertical-align: middle;\n",
       "    }\n",
       "\n",
       "    .dataframe tbody tr th {\n",
       "        vertical-align: top;\n",
       "    }\n",
       "\n",
       "    .dataframe thead th {\n",
       "        text-align: right;\n",
       "    }\n",
       "</style>\n",
       "<table border=\"1\" class=\"dataframe\">\n",
       "  <thead>\n",
       "    <tr style=\"text-align: right;\">\n",
       "      <th></th>\n",
       "      <th>OBJECTID</th>\n",
       "      <th>name</th>\n",
       "      <th>geometry</th>\n",
       "      <th>index_right</th>\n",
       "      <th>FIPS</th>\n",
       "      <th>total</th>\n",
       "      <th>white</th>\n",
       "      <th>black</th>\n",
       "      <th>asian</th>\n",
       "      <th>hispanic</th>\n",
       "      <th>year</th>\n",
       "    </tr>\n",
       "  </thead>\n",
       "  <tbody>\n",
       "    <tr>\n",
       "      <th>0</th>\n",
       "      <td>1</td>\n",
       "      <td>Adams-Normandie</td>\n",
       "      <td>POLYGON ((-118.30069 34.03731, -118.30388 34.0...</td>\n",
       "      <td>1225</td>\n",
       "      <td>06037221601</td>\n",
       "      <td>3008</td>\n",
       "      <td>222</td>\n",
       "      <td>152</td>\n",
       "      <td>26</td>\n",
       "      <td>585</td>\n",
       "      <td>2021</td>\n",
       "    </tr>\n",
       "    <tr>\n",
       "      <th>0</th>\n",
       "      <td>1</td>\n",
       "      <td>Adams-Normandie</td>\n",
       "      <td>POLYGON ((-118.30069 34.03731, -118.30388 34.0...</td>\n",
       "      <td>1222</td>\n",
       "      <td>06037221500</td>\n",
       "      <td>1031</td>\n",
       "      <td>161</td>\n",
       "      <td>453</td>\n",
       "      <td>34</td>\n",
       "      <td>513</td>\n",
       "      <td>2017</td>\n",
       "    </tr>\n",
       "    <tr>\n",
       "      <th>0</th>\n",
       "      <td>1</td>\n",
       "      <td>Adams-Normandie</td>\n",
       "      <td>POLYGON ((-118.30069 34.03731, -118.30388 34.0...</td>\n",
       "      <td>1223</td>\n",
       "      <td>06037221500</td>\n",
       "      <td>3542</td>\n",
       "      <td>215</td>\n",
       "      <td>283</td>\n",
       "      <td>68</td>\n",
       "      <td>416</td>\n",
       "      <td>2021</td>\n",
       "    </tr>\n",
       "    <tr>\n",
       "      <th>0</th>\n",
       "      <td>1</td>\n",
       "      <td>Adams-Normandie</td>\n",
       "      <td>POLYGON ((-118.30069 34.03731, -118.30388 34.0...</td>\n",
       "      <td>1241</td>\n",
       "      <td>06037222100</td>\n",
       "      <td>4264</td>\n",
       "      <td>216</td>\n",
       "      <td>196</td>\n",
       "      <td>32</td>\n",
       "      <td>495</td>\n",
       "      <td>2021</td>\n",
       "    </tr>\n",
       "    <tr>\n",
       "      <th>0</th>\n",
       "      <td>1</td>\n",
       "      <td>Adams-Normandie</td>\n",
       "      <td>POLYGON ((-118.30069 34.03731, -118.30388 34.0...</td>\n",
       "      <td>1240</td>\n",
       "      <td>06037222100</td>\n",
       "      <td>782</td>\n",
       "      <td>111</td>\n",
       "      <td>281</td>\n",
       "      <td>79</td>\n",
       "      <td>379</td>\n",
       "      <td>2017</td>\n",
       "    </tr>\n",
       "  </tbody>\n",
       "</table>\n",
       "</div>"
      ],
      "text/plain": [
       "   OBJECTID             name  \\\n",
       "0         1  Adams-Normandie   \n",
       "0         1  Adams-Normandie   \n",
       "0         1  Adams-Normandie   \n",
       "0         1  Adams-Normandie   \n",
       "0         1  Adams-Normandie   \n",
       "\n",
       "                                            geometry  index_right  \\\n",
       "0  POLYGON ((-118.30069 34.03731, -118.30388 34.0...         1225   \n",
       "0  POLYGON ((-118.30069 34.03731, -118.30388 34.0...         1222   \n",
       "0  POLYGON ((-118.30069 34.03731, -118.30388 34.0...         1223   \n",
       "0  POLYGON ((-118.30069 34.03731, -118.30388 34.0...         1241   \n",
       "0  POLYGON ((-118.30069 34.03731, -118.30388 34.0...         1240   \n",
       "\n",
       "          FIPS  total  white  black  asian  hispanic  year  \n",
       "0  06037221601   3008    222    152     26       585  2021  \n",
       "0  06037221500   1031    161    453     34       513  2017  \n",
       "0  06037221500   3542    215    283     68       416  2021  \n",
       "0  06037222100   4264    216    196     32       495  2021  \n",
       "0  06037222100    782    111    281     79       379  2017  "
      ]
     },
     "execution_count": 354,
     "metadata": {},
     "output_type": "execute_result"
    }
   ],
   "source": [
    "# spatial join\n",
    "\n",
    "nbh_race = nbh.sjoin(spatial_race_1, how=\"left\")\n",
    "nbh_race.sort_values(by=['FIPS','year'])\n",
    "nbh_race.head()\n"
   ]
  },
  {
   "cell_type": "code",
   "execution_count": 355,
   "id": "905b3419-8291-4cba-aba3-9d37ee34793b",
   "metadata": {
    "tags": []
   },
   "outputs": [
    {
     "data": {
      "text/html": [
       "<div>\n",
       "<style scoped>\n",
       "    .dataframe tbody tr th:only-of-type {\n",
       "        vertical-align: middle;\n",
       "    }\n",
       "\n",
       "    .dataframe tbody tr th {\n",
       "        vertical-align: top;\n",
       "    }\n",
       "\n",
       "    .dataframe thead th {\n",
       "        text-align: right;\n",
       "    }\n",
       "</style>\n",
       "<table border=\"1\" class=\"dataframe\">\n",
       "  <thead>\n",
       "    <tr style=\"text-align: right;\">\n",
       "      <th></th>\n",
       "      <th>year</th>\n",
       "      <th>name</th>\n",
       "      <th>Geometry</th>\n",
       "      <th>Total</th>\n",
       "      <th>White</th>\n",
       "      <th>Black</th>\n",
       "      <th>Asian</th>\n",
       "      <th>Hispanic</th>\n",
       "    </tr>\n",
       "  </thead>\n",
       "  <tbody>\n",
       "    <tr>\n",
       "      <th>0</th>\n",
       "      <td>2017</td>\n",
       "      <td>Adams-Normandie</td>\n",
       "      <td>POLYGON ((-118.30069 34.03731, -118.30388 34.0...</td>\n",
       "      <td>4187</td>\n",
       "      <td>713</td>\n",
       "      <td>1332</td>\n",
       "      <td>402</td>\n",
       "      <td>2151</td>\n",
       "    </tr>\n",
       "    <tr>\n",
       "      <th>114</th>\n",
       "      <td>2021</td>\n",
       "      <td>Adams-Normandie</td>\n",
       "      <td>POLYGON ((-118.30069 34.03731, -118.30388 34.0...</td>\n",
       "      <td>17616</td>\n",
       "      <td>1132</td>\n",
       "      <td>930</td>\n",
       "      <td>472</td>\n",
       "      <td>2460</td>\n",
       "    </tr>\n",
       "    <tr>\n",
       "      <th>1</th>\n",
       "      <td>2017</td>\n",
       "      <td>Arleta</td>\n",
       "      <td>POLYGON ((-118.44255 34.26412, -118.44240 34.2...</td>\n",
       "      <td>848</td>\n",
       "      <td>487</td>\n",
       "      <td>11</td>\n",
       "      <td>72</td>\n",
       "      <td>696</td>\n",
       "    </tr>\n",
       "    <tr>\n",
       "      <th>115</th>\n",
       "      <td>2021</td>\n",
       "      <td>Arleta</td>\n",
       "      <td>POLYGON ((-118.44255 34.26412, -118.44240 34.2...</td>\n",
       "      <td>18944</td>\n",
       "      <td>368</td>\n",
       "      <td>0</td>\n",
       "      <td>38</td>\n",
       "      <td>626</td>\n",
       "    </tr>\n",
       "    <tr>\n",
       "      <th>2</th>\n",
       "      <td>2017</td>\n",
       "      <td>Arlington Heights</td>\n",
       "      <td>POLYGON ((-118.31862 34.05306, -118.31673 34.0...</td>\n",
       "      <td>5181</td>\n",
       "      <td>1217</td>\n",
       "      <td>983</td>\n",
       "      <td>994</td>\n",
       "      <td>2858</td>\n",
       "    </tr>\n",
       "    <tr>\n",
       "      <th>116</th>\n",
       "      <td>2021</td>\n",
       "      <td>Arlington Heights</td>\n",
       "      <td>POLYGON ((-118.31862 34.05306, -118.31673 34.0...</td>\n",
       "      <td>17696</td>\n",
       "      <td>1232</td>\n",
       "      <td>1203</td>\n",
       "      <td>831</td>\n",
       "      <td>2596</td>\n",
       "    </tr>\n",
       "    <tr>\n",
       "      <th>3</th>\n",
       "      <td>2017</td>\n",
       "      <td>Atwater Village</td>\n",
       "      <td>MULTIPOLYGON (((-118.27886 34.15321, -118.2788...</td>\n",
       "      <td>2565</td>\n",
       "      <td>1466</td>\n",
       "      <td>18</td>\n",
       "      <td>438</td>\n",
       "      <td>855</td>\n",
       "    </tr>\n",
       "    <tr>\n",
       "      <th>117</th>\n",
       "      <td>2021</td>\n",
       "      <td>Atwater Village</td>\n",
       "      <td>MULTIPOLYGON (((-118.27886 34.15321, -118.2788...</td>\n",
       "      <td>10563</td>\n",
       "      <td>1466</td>\n",
       "      <td>8</td>\n",
       "      <td>565</td>\n",
       "      <td>862</td>\n",
       "    </tr>\n",
       "    <tr>\n",
       "      <th>4</th>\n",
       "      <td>2017</td>\n",
       "      <td>Baldwin Hills/Crenshaw</td>\n",
       "      <td>POLYGON ((-118.36102 34.02532, -118.36026 34.0...</td>\n",
       "      <td>4428</td>\n",
       "      <td>710</td>\n",
       "      <td>3194</td>\n",
       "      <td>153</td>\n",
       "      <td>796</td>\n",
       "    </tr>\n",
       "    <tr>\n",
       "      <th>118</th>\n",
       "      <td>2021</td>\n",
       "      <td>Baldwin Hills/Crenshaw</td>\n",
       "      <td>POLYGON ((-118.36102 34.02532, -118.36026 34.0...</td>\n",
       "      <td>15429</td>\n",
       "      <td>530</td>\n",
       "      <td>2908</td>\n",
       "      <td>192</td>\n",
       "      <td>1070</td>\n",
       "    </tr>\n",
       "    <tr>\n",
       "      <th>5</th>\n",
       "      <td>2017</td>\n",
       "      <td>Bel-Air</td>\n",
       "      <td>POLYGON ((-118.46165 34.13077, -118.46077 34.1...</td>\n",
       "      <td>608</td>\n",
       "      <td>563</td>\n",
       "      <td>0</td>\n",
       "      <td>36</td>\n",
       "      <td>102</td>\n",
       "    </tr>\n",
       "    <tr>\n",
       "      <th>119</th>\n",
       "      <td>2021</td>\n",
       "      <td>Bel-Air</td>\n",
       "      <td>POLYGON ((-118.46165 34.13077, -118.46077 34.1...</td>\n",
       "      <td>6541</td>\n",
       "      <td>373</td>\n",
       "      <td>12</td>\n",
       "      <td>49</td>\n",
       "      <td>38</td>\n",
       "    </tr>\n",
       "    <tr>\n",
       "      <th>6</th>\n",
       "      <td>2017</td>\n",
       "      <td>Beverly Crest</td>\n",
       "      <td>POLYGON ((-118.42910 34.07920, -118.42929 34.0...</td>\n",
       "      <td>414</td>\n",
       "      <td>371</td>\n",
       "      <td>0</td>\n",
       "      <td>25</td>\n",
       "      <td>50</td>\n",
       "    </tr>\n",
       "    <tr>\n",
       "      <th>120</th>\n",
       "      <td>2021</td>\n",
       "      <td>Beverly Crest</td>\n",
       "      <td>POLYGON ((-118.42910 34.07920, -118.42929 34.0...</td>\n",
       "      <td>7530</td>\n",
       "      <td>267</td>\n",
       "      <td>0</td>\n",
       "      <td>6</td>\n",
       "      <td>11</td>\n",
       "    </tr>\n",
       "    <tr>\n",
       "      <th>7</th>\n",
       "      <td>2017</td>\n",
       "      <td>Beverly Grove</td>\n",
       "      <td>POLYGON ((-118.37251 34.09026, -118.37250 34.0...</td>\n",
       "      <td>7201</td>\n",
       "      <td>5473</td>\n",
       "      <td>175</td>\n",
       "      <td>870</td>\n",
       "      <td>670</td>\n",
       "    </tr>\n",
       "    <tr>\n",
       "      <th>121</th>\n",
       "      <td>2021</td>\n",
       "      <td>Beverly Grove</td>\n",
       "      <td>POLYGON ((-118.37251 34.09026, -118.37250 34.0...</td>\n",
       "      <td>17359</td>\n",
       "      <td>5250</td>\n",
       "      <td>374</td>\n",
       "      <td>436</td>\n",
       "      <td>659</td>\n",
       "    </tr>\n",
       "    <tr>\n",
       "      <th>8</th>\n",
       "      <td>2017</td>\n",
       "      <td>Beverlywood</td>\n",
       "      <td>POLYGON ((-118.38609 34.04675, -118.38934 34.0...</td>\n",
       "      <td>185</td>\n",
       "      <td>162</td>\n",
       "      <td>0</td>\n",
       "      <td>16</td>\n",
       "      <td>13</td>\n",
       "    </tr>\n",
       "    <tr>\n",
       "      <th>122</th>\n",
       "      <td>2021</td>\n",
       "      <td>Beverlywood</td>\n",
       "      <td>POLYGON ((-118.38609 34.04675, -118.38934 34.0...</td>\n",
       "      <td>3525</td>\n",
       "      <td>64</td>\n",
       "      <td>0</td>\n",
       "      <td>32</td>\n",
       "      <td>9</td>\n",
       "    </tr>\n",
       "    <tr>\n",
       "      <th>9</th>\n",
       "      <td>2017</td>\n",
       "      <td>Boyle Heights</td>\n",
       "      <td>POLYGON ((-118.19263 34.06077, -118.19260 34.0...</td>\n",
       "      <td>15848</td>\n",
       "      <td>11064</td>\n",
       "      <td>315</td>\n",
       "      <td>712</td>\n",
       "      <td>14390</td>\n",
       "    </tr>\n",
       "    <tr>\n",
       "      <th>123</th>\n",
       "      <td>2021</td>\n",
       "      <td>Boyle Heights</td>\n",
       "      <td>POLYGON ((-118.19263 34.06077, -118.19260 34.0...</td>\n",
       "      <td>82104</td>\n",
       "      <td>4564</td>\n",
       "      <td>351</td>\n",
       "      <td>499</td>\n",
       "      <td>14484</td>\n",
       "    </tr>\n",
       "  </tbody>\n",
       "</table>\n",
       "</div>"
      ],
      "text/plain": [
       "     year                    name  \\\n",
       "0    2017         Adams-Normandie   \n",
       "114  2021         Adams-Normandie   \n",
       "1    2017                  Arleta   \n",
       "115  2021                  Arleta   \n",
       "2    2017       Arlington Heights   \n",
       "116  2021       Arlington Heights   \n",
       "3    2017         Atwater Village   \n",
       "117  2021         Atwater Village   \n",
       "4    2017  Baldwin Hills/Crenshaw   \n",
       "118  2021  Baldwin Hills/Crenshaw   \n",
       "5    2017                 Bel-Air   \n",
       "119  2021                 Bel-Air   \n",
       "6    2017           Beverly Crest   \n",
       "120  2021           Beverly Crest   \n",
       "7    2017           Beverly Grove   \n",
       "121  2021           Beverly Grove   \n",
       "8    2017             Beverlywood   \n",
       "122  2021             Beverlywood   \n",
       "9    2017           Boyle Heights   \n",
       "123  2021           Boyle Heights   \n",
       "\n",
       "                                              Geometry  Total  White  Black  \\\n",
       "0    POLYGON ((-118.30069 34.03731, -118.30388 34.0...   4187    713   1332   \n",
       "114  POLYGON ((-118.30069 34.03731, -118.30388 34.0...  17616   1132    930   \n",
       "1    POLYGON ((-118.44255 34.26412, -118.44240 34.2...    848    487     11   \n",
       "115  POLYGON ((-118.44255 34.26412, -118.44240 34.2...  18944    368      0   \n",
       "2    POLYGON ((-118.31862 34.05306, -118.31673 34.0...   5181   1217    983   \n",
       "116  POLYGON ((-118.31862 34.05306, -118.31673 34.0...  17696   1232   1203   \n",
       "3    MULTIPOLYGON (((-118.27886 34.15321, -118.2788...   2565   1466     18   \n",
       "117  MULTIPOLYGON (((-118.27886 34.15321, -118.2788...  10563   1466      8   \n",
       "4    POLYGON ((-118.36102 34.02532, -118.36026 34.0...   4428    710   3194   \n",
       "118  POLYGON ((-118.36102 34.02532, -118.36026 34.0...  15429    530   2908   \n",
       "5    POLYGON ((-118.46165 34.13077, -118.46077 34.1...    608    563      0   \n",
       "119  POLYGON ((-118.46165 34.13077, -118.46077 34.1...   6541    373     12   \n",
       "6    POLYGON ((-118.42910 34.07920, -118.42929 34.0...    414    371      0   \n",
       "120  POLYGON ((-118.42910 34.07920, -118.42929 34.0...   7530    267      0   \n",
       "7    POLYGON ((-118.37251 34.09026, -118.37250 34.0...   7201   5473    175   \n",
       "121  POLYGON ((-118.37251 34.09026, -118.37250 34.0...  17359   5250    374   \n",
       "8    POLYGON ((-118.38609 34.04675, -118.38934 34.0...    185    162      0   \n",
       "122  POLYGON ((-118.38609 34.04675, -118.38934 34.0...   3525     64      0   \n",
       "9    POLYGON ((-118.19263 34.06077, -118.19260 34.0...  15848  11064    315   \n",
       "123  POLYGON ((-118.19263 34.06077, -118.19260 34.0...  82104   4564    351   \n",
       "\n",
       "     Asian  Hispanic  \n",
       "0      402      2151  \n",
       "114    472      2460  \n",
       "1       72       696  \n",
       "115     38       626  \n",
       "2      994      2858  \n",
       "116    831      2596  \n",
       "3      438       855  \n",
       "117    565       862  \n",
       "4      153       796  \n",
       "118    192      1070  \n",
       "5       36       102  \n",
       "119     49        38  \n",
       "6       25        50  \n",
       "120      6        11  \n",
       "7      870       670  \n",
       "121    436       659  \n",
       "8       16        13  \n",
       "122     32         9  \n",
       "9      712     14390  \n",
       "123    499     14484  "
      ]
     },
     "execution_count": 355,
     "metadata": {},
     "output_type": "execute_result"
    }
   ],
   "source": [
    "# collapse by year and neighborhood\n",
    "nbhr = nbh_race.groupby(['year','name'],\n",
    "                                           as_index=False).agg(Geometry = ('geometry','first'),\n",
    "                                                               Total = ('total','sum'),\n",
    "                                                               White = ('white','sum'),\n",
    "                                                               Black = ('black','sum'),\n",
    "                                                               Asian = ('asian','sum'),\n",
    "                                                               Hispanic = ('hispanic','sum')\n",
    "                                                              )\n",
    "nbhr = nbhr.sort_values(by=['name','year'])\n",
    "nbhr.head(20)"
   ]
  },
  {
   "cell_type": "code",
   "execution_count": 356,
   "id": "cabb98e5-5a64-4c1e-a609-723a5533fd91",
   "metadata": {},
   "outputs": [
    {
     "data": {
      "text/html": [
       "<div>\n",
       "<style scoped>\n",
       "    .dataframe tbody tr th:only-of-type {\n",
       "        vertical-align: middle;\n",
       "    }\n",
       "\n",
       "    .dataframe tbody tr th {\n",
       "        vertical-align: top;\n",
       "    }\n",
       "\n",
       "    .dataframe thead th {\n",
       "        text-align: right;\n",
       "    }\n",
       "</style>\n",
       "<table border=\"1\" class=\"dataframe\">\n",
       "  <thead>\n",
       "    <tr style=\"text-align: right;\">\n",
       "      <th></th>\n",
       "      <th>year</th>\n",
       "      <th>name</th>\n",
       "      <th>Geometry</th>\n",
       "      <th>Total</th>\n",
       "      <th>White</th>\n",
       "      <th>Black</th>\n",
       "      <th>Asian</th>\n",
       "      <th>Hispanic</th>\n",
       "      <th>delta</th>\n",
       "      <th>delta_100_black</th>\n",
       "      <th>delta_w</th>\n",
       "      <th>delta_100_white</th>\n",
       "    </tr>\n",
       "  </thead>\n",
       "  <tbody>\n",
       "    <tr>\n",
       "      <th>0</th>\n",
       "      <td>2017</td>\n",
       "      <td>Adams-Normandie</td>\n",
       "      <td>POLYGON ((-118.30069 34.03731, -118.30388 34.0...</td>\n",
       "      <td>4187</td>\n",
       "      <td>713</td>\n",
       "      <td>1332</td>\n",
       "      <td>402</td>\n",
       "      <td>2151</td>\n",
       "      <td>NaN</td>\n",
       "      <td>NaN</td>\n",
       "      <td>NaN</td>\n",
       "      <td>NaN</td>\n",
       "    </tr>\n",
       "    <tr>\n",
       "      <th>114</th>\n",
       "      <td>2021</td>\n",
       "      <td>Adams-Normandie</td>\n",
       "      <td>POLYGON ((-118.30069 34.03731, -118.30388 34.0...</td>\n",
       "      <td>17616</td>\n",
       "      <td>1132</td>\n",
       "      <td>930</td>\n",
       "      <td>472</td>\n",
       "      <td>2460</td>\n",
       "      <td>0.698198</td>\n",
       "      <td>69.819820</td>\n",
       "      <td>1.587658</td>\n",
       "      <td>158.765778</td>\n",
       "    </tr>\n",
       "    <tr>\n",
       "      <th>1</th>\n",
       "      <td>2017</td>\n",
       "      <td>Arleta</td>\n",
       "      <td>POLYGON ((-118.44255 34.26412, -118.44240 34.2...</td>\n",
       "      <td>848</td>\n",
       "      <td>487</td>\n",
       "      <td>11</td>\n",
       "      <td>72</td>\n",
       "      <td>696</td>\n",
       "      <td>NaN</td>\n",
       "      <td>NaN</td>\n",
       "      <td>NaN</td>\n",
       "      <td>NaN</td>\n",
       "    </tr>\n",
       "    <tr>\n",
       "      <th>115</th>\n",
       "      <td>2021</td>\n",
       "      <td>Arleta</td>\n",
       "      <td>POLYGON ((-118.44255 34.26412, -118.44240 34.2...</td>\n",
       "      <td>18944</td>\n",
       "      <td>368</td>\n",
       "      <td>0</td>\n",
       "      <td>38</td>\n",
       "      <td>626</td>\n",
       "      <td>0.000000</td>\n",
       "      <td>0.000000</td>\n",
       "      <td>0.755647</td>\n",
       "      <td>75.564682</td>\n",
       "    </tr>\n",
       "    <tr>\n",
       "      <th>2</th>\n",
       "      <td>2017</td>\n",
       "      <td>Arlington Heights</td>\n",
       "      <td>POLYGON ((-118.31862 34.05306, -118.31673 34.0...</td>\n",
       "      <td>5181</td>\n",
       "      <td>1217</td>\n",
       "      <td>983</td>\n",
       "      <td>994</td>\n",
       "      <td>2858</td>\n",
       "      <td>NaN</td>\n",
       "      <td>NaN</td>\n",
       "      <td>NaN</td>\n",
       "      <td>NaN</td>\n",
       "    </tr>\n",
       "    <tr>\n",
       "      <th>...</th>\n",
       "      <td>...</td>\n",
       "      <td>...</td>\n",
       "      <td>...</td>\n",
       "      <td>...</td>\n",
       "      <td>...</td>\n",
       "      <td>...</td>\n",
       "      <td>...</td>\n",
       "      <td>...</td>\n",
       "      <td>...</td>\n",
       "      <td>...</td>\n",
       "      <td>...</td>\n",
       "      <td>...</td>\n",
       "    </tr>\n",
       "    <tr>\n",
       "      <th>225</th>\n",
       "      <td>2021</td>\n",
       "      <td>Windsor Square</td>\n",
       "      <td>POLYGON ((-118.31404 34.06254, -118.31420 34.0...</td>\n",
       "      <td>6632</td>\n",
       "      <td>546</td>\n",
       "      <td>134</td>\n",
       "      <td>833</td>\n",
       "      <td>334</td>\n",
       "      <td>0.644231</td>\n",
       "      <td>64.423077</td>\n",
       "      <td>1.056093</td>\n",
       "      <td>105.609284</td>\n",
       "    </tr>\n",
       "    <tr>\n",
       "      <th>112</th>\n",
       "      <td>2017</td>\n",
       "      <td>Winnetka</td>\n",
       "      <td>POLYGON ((-118.56232 34.23199, -118.56232 34.2...</td>\n",
       "      <td>5304</td>\n",
       "      <td>2033</td>\n",
       "      <td>369</td>\n",
       "      <td>732</td>\n",
       "      <td>2800</td>\n",
       "      <td>NaN</td>\n",
       "      <td>NaN</td>\n",
       "      <td>NaN</td>\n",
       "      <td>NaN</td>\n",
       "    </tr>\n",
       "    <tr>\n",
       "      <th>226</th>\n",
       "      <td>2021</td>\n",
       "      <td>Winnetka</td>\n",
       "      <td>POLYGON ((-118.56232 34.23199, -118.56232 34.2...</td>\n",
       "      <td>33384</td>\n",
       "      <td>1741</td>\n",
       "      <td>300</td>\n",
       "      <td>630</td>\n",
       "      <td>3170</td>\n",
       "      <td>0.813008</td>\n",
       "      <td>81.300813</td>\n",
       "      <td>0.856370</td>\n",
       "      <td>85.636990</td>\n",
       "    </tr>\n",
       "    <tr>\n",
       "      <th>113</th>\n",
       "      <td>2017</td>\n",
       "      <td>Woodland Hills</td>\n",
       "      <td>POLYGON ((-118.57240 34.18668, -118.57161 34.1...</td>\n",
       "      <td>7849</td>\n",
       "      <td>5761</td>\n",
       "      <td>504</td>\n",
       "      <td>797</td>\n",
       "      <td>968</td>\n",
       "      <td>NaN</td>\n",
       "      <td>NaN</td>\n",
       "      <td>NaN</td>\n",
       "      <td>NaN</td>\n",
       "    </tr>\n",
       "    <tr>\n",
       "      <th>227</th>\n",
       "      <td>2021</td>\n",
       "      <td>Woodland Hills</td>\n",
       "      <td>POLYGON ((-118.57240 34.18668, -118.57161 34.1...</td>\n",
       "      <td>54081</td>\n",
       "      <td>5528</td>\n",
       "      <td>1280</td>\n",
       "      <td>872</td>\n",
       "      <td>1121</td>\n",
       "      <td>2.539683</td>\n",
       "      <td>253.968254</td>\n",
       "      <td>0.959556</td>\n",
       "      <td>95.955563</td>\n",
       "    </tr>\n",
       "  </tbody>\n",
       "</table>\n",
       "<p>228 rows × 12 columns</p>\n",
       "</div>"
      ],
      "text/plain": [
       "     year               name  \\\n",
       "0    2017    Adams-Normandie   \n",
       "114  2021    Adams-Normandie   \n",
       "1    2017             Arleta   \n",
       "115  2021             Arleta   \n",
       "2    2017  Arlington Heights   \n",
       "..    ...                ...   \n",
       "225  2021     Windsor Square   \n",
       "112  2017           Winnetka   \n",
       "226  2021           Winnetka   \n",
       "113  2017     Woodland Hills   \n",
       "227  2021     Woodland Hills   \n",
       "\n",
       "                                              Geometry  Total  White  Black  \\\n",
       "0    POLYGON ((-118.30069 34.03731, -118.30388 34.0...   4187    713   1332   \n",
       "114  POLYGON ((-118.30069 34.03731, -118.30388 34.0...  17616   1132    930   \n",
       "1    POLYGON ((-118.44255 34.26412, -118.44240 34.2...    848    487     11   \n",
       "115  POLYGON ((-118.44255 34.26412, -118.44240 34.2...  18944    368      0   \n",
       "2    POLYGON ((-118.31862 34.05306, -118.31673 34.0...   5181   1217    983   \n",
       "..                                                 ...    ...    ...    ...   \n",
       "225  POLYGON ((-118.31404 34.06254, -118.31420 34.0...   6632    546    134   \n",
       "112  POLYGON ((-118.56232 34.23199, -118.56232 34.2...   5304   2033    369   \n",
       "226  POLYGON ((-118.56232 34.23199, -118.56232 34.2...  33384   1741    300   \n",
       "113  POLYGON ((-118.57240 34.18668, -118.57161 34.1...   7849   5761    504   \n",
       "227  POLYGON ((-118.57240 34.18668, -118.57161 34.1...  54081   5528   1280   \n",
       "\n",
       "     Asian  Hispanic     delta  delta_100_black   delta_w  delta_100_white  \n",
       "0      402      2151       NaN              NaN       NaN              NaN  \n",
       "114    472      2460  0.698198        69.819820  1.587658       158.765778  \n",
       "1       72       696       NaN              NaN       NaN              NaN  \n",
       "115     38       626  0.000000         0.000000  0.755647        75.564682  \n",
       "2      994      2858       NaN              NaN       NaN              NaN  \n",
       "..     ...       ...       ...              ...       ...              ...  \n",
       "225    833       334  0.644231        64.423077  1.056093       105.609284  \n",
       "112    732      2800       NaN              NaN       NaN              NaN  \n",
       "226    630      3170  0.813008        81.300813  0.856370        85.636990  \n",
       "113    797       968       NaN              NaN       NaN              NaN  \n",
       "227    872      1121  2.539683       253.968254  0.959556        95.955563  \n",
       "\n",
       "[228 rows x 12 columns]"
      ]
     },
     "execution_count": 356,
     "metadata": {},
     "output_type": "execute_result"
    }
   ],
   "source": [
    "# row calculations for bar chart of seemingly most gentrified areas \n",
    "nbhr['delta'] = nbhr['Black'].div(nbhr.groupby('name')['Black'].shift())\n",
    "nbhr['delta_100_black'] = nbhr['delta']*100\n",
    "nbhr['delta_w'] = nbhr['White'].div(nbhr.groupby('name')['White'].shift())\n",
    "nbhr['delta_100_white'] = nbhr['delta_w']*100\n",
    "nbhr"
   ]
  },
  {
   "cell_type": "code",
   "execution_count": 357,
   "id": "e29bcd6b-ccfe-4724-b32d-f850b7e3c5ed",
   "metadata": {},
   "outputs": [
    {
     "data": {
      "text/html": [
       "<div>\n",
       "<style scoped>\n",
       "    .dataframe tbody tr th:only-of-type {\n",
       "        vertical-align: middle;\n",
       "    }\n",
       "\n",
       "    .dataframe tbody tr th {\n",
       "        vertical-align: top;\n",
       "    }\n",
       "\n",
       "    .dataframe thead th {\n",
       "        text-align: right;\n",
       "    }\n",
       "</style>\n",
       "<table border=\"1\" class=\"dataframe\">\n",
       "  <thead>\n",
       "    <tr style=\"text-align: right;\">\n",
       "      <th></th>\n",
       "      <th>year</th>\n",
       "      <th>name</th>\n",
       "      <th>Geometry</th>\n",
       "      <th>Total</th>\n",
       "      <th>White</th>\n",
       "      <th>Black</th>\n",
       "      <th>Asian</th>\n",
       "      <th>Hispanic</th>\n",
       "      <th>delta</th>\n",
       "      <th>delta_100_black</th>\n",
       "      <th>delta_w</th>\n",
       "      <th>delta_100_white</th>\n",
       "    </tr>\n",
       "  </thead>\n",
       "  <tbody>\n",
       "    <tr>\n",
       "      <th>114</th>\n",
       "      <td>2021</td>\n",
       "      <td>Adams-Normandie</td>\n",
       "      <td>POLYGON ((-118.30069 34.03731, -118.30388 34.0...</td>\n",
       "      <td>17616</td>\n",
       "      <td>1132</td>\n",
       "      <td>930</td>\n",
       "      <td>472</td>\n",
       "      <td>2460</td>\n",
       "      <td>0.698198</td>\n",
       "      <td>69.819820</td>\n",
       "      <td>1.587658</td>\n",
       "      <td>158.765778</td>\n",
       "    </tr>\n",
       "    <tr>\n",
       "      <th>115</th>\n",
       "      <td>2021</td>\n",
       "      <td>Arleta</td>\n",
       "      <td>POLYGON ((-118.44255 34.26412, -118.44240 34.2...</td>\n",
       "      <td>18944</td>\n",
       "      <td>368</td>\n",
       "      <td>0</td>\n",
       "      <td>38</td>\n",
       "      <td>626</td>\n",
       "      <td>0.000000</td>\n",
       "      <td>0.000000</td>\n",
       "      <td>0.755647</td>\n",
       "      <td>75.564682</td>\n",
       "    </tr>\n",
       "    <tr>\n",
       "      <th>116</th>\n",
       "      <td>2021</td>\n",
       "      <td>Arlington Heights</td>\n",
       "      <td>POLYGON ((-118.31862 34.05306, -118.31673 34.0...</td>\n",
       "      <td>17696</td>\n",
       "      <td>1232</td>\n",
       "      <td>1203</td>\n",
       "      <td>831</td>\n",
       "      <td>2596</td>\n",
       "      <td>1.223805</td>\n",
       "      <td>122.380468</td>\n",
       "      <td>1.012325</td>\n",
       "      <td>101.232539</td>\n",
       "    </tr>\n",
       "    <tr>\n",
       "      <th>117</th>\n",
       "      <td>2021</td>\n",
       "      <td>Atwater Village</td>\n",
       "      <td>MULTIPOLYGON (((-118.27886 34.15321, -118.2788...</td>\n",
       "      <td>10563</td>\n",
       "      <td>1466</td>\n",
       "      <td>8</td>\n",
       "      <td>565</td>\n",
       "      <td>862</td>\n",
       "      <td>0.444444</td>\n",
       "      <td>44.444444</td>\n",
       "      <td>1.000000</td>\n",
       "      <td>100.000000</td>\n",
       "    </tr>\n",
       "    <tr>\n",
       "      <th>118</th>\n",
       "      <td>2021</td>\n",
       "      <td>Baldwin Hills/Crenshaw</td>\n",
       "      <td>POLYGON ((-118.36102 34.02532, -118.36026 34.0...</td>\n",
       "      <td>15429</td>\n",
       "      <td>530</td>\n",
       "      <td>2908</td>\n",
       "      <td>192</td>\n",
       "      <td>1070</td>\n",
       "      <td>0.910457</td>\n",
       "      <td>91.045711</td>\n",
       "      <td>0.746479</td>\n",
       "      <td>74.647887</td>\n",
       "    </tr>\n",
       "    <tr>\n",
       "      <th>...</th>\n",
       "      <td>...</td>\n",
       "      <td>...</td>\n",
       "      <td>...</td>\n",
       "      <td>...</td>\n",
       "      <td>...</td>\n",
       "      <td>...</td>\n",
       "      <td>...</td>\n",
       "      <td>...</td>\n",
       "      <td>...</td>\n",
       "      <td>...</td>\n",
       "      <td>...</td>\n",
       "      <td>...</td>\n",
       "    </tr>\n",
       "    <tr>\n",
       "      <th>223</th>\n",
       "      <td>2021</td>\n",
       "      <td>Westwood</td>\n",
       "      <td>POLYGON ((-118.42946 34.07925, -118.42938 34.0...</td>\n",
       "      <td>34002</td>\n",
       "      <td>2751</td>\n",
       "      <td>158</td>\n",
       "      <td>1024</td>\n",
       "      <td>567</td>\n",
       "      <td>0.969325</td>\n",
       "      <td>96.932515</td>\n",
       "      <td>0.880602</td>\n",
       "      <td>88.060179</td>\n",
       "    </tr>\n",
       "    <tr>\n",
       "      <th>224</th>\n",
       "      <td>2021</td>\n",
       "      <td>Wilmington</td>\n",
       "      <td>MULTIPOLYGON (((-118.28331 33.75532, -118.2880...</td>\n",
       "      <td>56190</td>\n",
       "      <td>5702</td>\n",
       "      <td>530</td>\n",
       "      <td>314</td>\n",
       "      <td>8267</td>\n",
       "      <td>1.373057</td>\n",
       "      <td>137.305699</td>\n",
       "      <td>1.264582</td>\n",
       "      <td>126.458195</td>\n",
       "    </tr>\n",
       "    <tr>\n",
       "      <th>225</th>\n",
       "      <td>2021</td>\n",
       "      <td>Windsor Square</td>\n",
       "      <td>POLYGON ((-118.31404 34.06254, -118.31420 34.0...</td>\n",
       "      <td>6632</td>\n",
       "      <td>546</td>\n",
       "      <td>134</td>\n",
       "      <td>833</td>\n",
       "      <td>334</td>\n",
       "      <td>0.644231</td>\n",
       "      <td>64.423077</td>\n",
       "      <td>1.056093</td>\n",
       "      <td>105.609284</td>\n",
       "    </tr>\n",
       "    <tr>\n",
       "      <th>226</th>\n",
       "      <td>2021</td>\n",
       "      <td>Winnetka</td>\n",
       "      <td>POLYGON ((-118.56232 34.23199, -118.56232 34.2...</td>\n",
       "      <td>33384</td>\n",
       "      <td>1741</td>\n",
       "      <td>300</td>\n",
       "      <td>630</td>\n",
       "      <td>3170</td>\n",
       "      <td>0.813008</td>\n",
       "      <td>81.300813</td>\n",
       "      <td>0.856370</td>\n",
       "      <td>85.636990</td>\n",
       "    </tr>\n",
       "    <tr>\n",
       "      <th>227</th>\n",
       "      <td>2021</td>\n",
       "      <td>Woodland Hills</td>\n",
       "      <td>POLYGON ((-118.57240 34.18668, -118.57161 34.1...</td>\n",
       "      <td>54081</td>\n",
       "      <td>5528</td>\n",
       "      <td>1280</td>\n",
       "      <td>872</td>\n",
       "      <td>1121</td>\n",
       "      <td>2.539683</td>\n",
       "      <td>253.968254</td>\n",
       "      <td>0.959556</td>\n",
       "      <td>95.955563</td>\n",
       "    </tr>\n",
       "  </tbody>\n",
       "</table>\n",
       "<p>106 rows × 12 columns</p>\n",
       "</div>"
      ],
      "text/plain": [
       "     year                    name  \\\n",
       "114  2021         Adams-Normandie   \n",
       "115  2021                  Arleta   \n",
       "116  2021       Arlington Heights   \n",
       "117  2021         Atwater Village   \n",
       "118  2021  Baldwin Hills/Crenshaw   \n",
       "..    ...                     ...   \n",
       "223  2021                Westwood   \n",
       "224  2021              Wilmington   \n",
       "225  2021          Windsor Square   \n",
       "226  2021                Winnetka   \n",
       "227  2021          Woodland Hills   \n",
       "\n",
       "                                              Geometry  Total  White  Black  \\\n",
       "114  POLYGON ((-118.30069 34.03731, -118.30388 34.0...  17616   1132    930   \n",
       "115  POLYGON ((-118.44255 34.26412, -118.44240 34.2...  18944    368      0   \n",
       "116  POLYGON ((-118.31862 34.05306, -118.31673 34.0...  17696   1232   1203   \n",
       "117  MULTIPOLYGON (((-118.27886 34.15321, -118.2788...  10563   1466      8   \n",
       "118  POLYGON ((-118.36102 34.02532, -118.36026 34.0...  15429    530   2908   \n",
       "..                                                 ...    ...    ...    ...   \n",
       "223  POLYGON ((-118.42946 34.07925, -118.42938 34.0...  34002   2751    158   \n",
       "224  MULTIPOLYGON (((-118.28331 33.75532, -118.2880...  56190   5702    530   \n",
       "225  POLYGON ((-118.31404 34.06254, -118.31420 34.0...   6632    546    134   \n",
       "226  POLYGON ((-118.56232 34.23199, -118.56232 34.2...  33384   1741    300   \n",
       "227  POLYGON ((-118.57240 34.18668, -118.57161 34.1...  54081   5528   1280   \n",
       "\n",
       "     Asian  Hispanic     delta  delta_100_black   delta_w  delta_100_white  \n",
       "114    472      2460  0.698198        69.819820  1.587658       158.765778  \n",
       "115     38       626  0.000000         0.000000  0.755647        75.564682  \n",
       "116    831      2596  1.223805       122.380468  1.012325       101.232539  \n",
       "117    565       862  0.444444        44.444444  1.000000       100.000000  \n",
       "118    192      1070  0.910457        91.045711  0.746479        74.647887  \n",
       "..     ...       ...       ...              ...       ...              ...  \n",
       "223   1024       567  0.969325        96.932515  0.880602        88.060179  \n",
       "224    314      8267  1.373057       137.305699  1.264582       126.458195  \n",
       "225    833       334  0.644231        64.423077  1.056093       105.609284  \n",
       "226    630      3170  0.813008        81.300813  0.856370        85.636990  \n",
       "227    872      1121  2.539683       253.968254  0.959556        95.955563  \n",
       "\n",
       "[106 rows x 12 columns]"
      ]
     },
     "execution_count": 357,
     "metadata": {},
     "output_type": "execute_result"
    }
   ],
   "source": [
    "# look at the segment of highly populated black communites that lost population, while whites gained \n",
    "nbhr_1 = nbhr[nbhr['delta'].notna()]\n",
    "nbhr_1"
   ]
  },
  {
   "cell_type": "code",
   "execution_count": 358,
   "id": "604156a8-c208-433a-ba28-c74770718ccd",
   "metadata": {},
   "outputs": [
    {
     "data": {
      "text/html": [
       "<div>\n",
       "<style scoped>\n",
       "    .dataframe tbody tr th:only-of-type {\n",
       "        vertical-align: middle;\n",
       "    }\n",
       "\n",
       "    .dataframe tbody tr th {\n",
       "        vertical-align: top;\n",
       "    }\n",
       "\n",
       "    .dataframe thead th {\n",
       "        text-align: right;\n",
       "    }\n",
       "</style>\n",
       "<table border=\"1\" class=\"dataframe\">\n",
       "  <thead>\n",
       "    <tr style=\"text-align: right;\">\n",
       "      <th></th>\n",
       "      <th>year</th>\n",
       "      <th>name</th>\n",
       "      <th>Geometry</th>\n",
       "      <th>Total</th>\n",
       "      <th>White</th>\n",
       "      <th>Black</th>\n",
       "      <th>Asian</th>\n",
       "      <th>Hispanic</th>\n",
       "      <th>delta</th>\n",
       "      <th>delta_100_black</th>\n",
       "      <th>delta_w</th>\n",
       "      <th>delta_100_white</th>\n",
       "    </tr>\n",
       "  </thead>\n",
       "  <tbody>\n",
       "    <tr>\n",
       "      <th>125</th>\n",
       "      <td>2021</td>\n",
       "      <td>Broadway-Manchester</td>\n",
       "      <td>POLYGON ((-118.26954 33.92919, -118.26956 33.9...</td>\n",
       "      <td>25322</td>\n",
       "      <td>975</td>\n",
       "      <td>1555</td>\n",
       "      <td>41</td>\n",
       "      <td>2541</td>\n",
       "      <td>0.730047</td>\n",
       "      <td>73.004695</td>\n",
       "      <td>1.090604</td>\n",
       "      <td>109.060403</td>\n",
       "    </tr>\n",
       "    <tr>\n",
       "      <th>132</th>\n",
       "      <td>2021</td>\n",
       "      <td>Chesterfield Square</td>\n",
       "      <td>POLYGON ((-118.30898 33.97458, -118.30898 33.9...</td>\n",
       "      <td>15197</td>\n",
       "      <td>127</td>\n",
       "      <td>1260</td>\n",
       "      <td>15</td>\n",
       "      <td>865</td>\n",
       "      <td>0.744241</td>\n",
       "      <td>74.424099</td>\n",
       "      <td>0.327320</td>\n",
       "      <td>32.731959</td>\n",
       "    </tr>\n",
       "    <tr>\n",
       "      <th>218</th>\n",
       "      <td>2021</td>\n",
       "      <td>West Adams</td>\n",
       "      <td>POLYGON ((-118.36955 34.03517, -118.36860 34.0...</td>\n",
       "      <td>19945</td>\n",
       "      <td>1677</td>\n",
       "      <td>1459</td>\n",
       "      <td>172</td>\n",
       "      <td>2305</td>\n",
       "      <td>0.767087</td>\n",
       "      <td>76.708728</td>\n",
       "      <td>0.927032</td>\n",
       "      <td>92.703151</td>\n",
       "    </tr>\n",
       "    <tr>\n",
       "      <th>165</th>\n",
       "      <td>2021</td>\n",
       "      <td>Jefferson Park</td>\n",
       "      <td>POLYGON ((-118.31335 34.03721, -118.30900 34.0...</td>\n",
       "      <td>26295</td>\n",
       "      <td>1416</td>\n",
       "      <td>2517</td>\n",
       "      <td>333</td>\n",
       "      <td>2680</td>\n",
       "      <td>0.856122</td>\n",
       "      <td>85.612245</td>\n",
       "      <td>1.573333</td>\n",
       "      <td>157.333333</td>\n",
       "    </tr>\n",
       "    <tr>\n",
       "      <th>175</th>\n",
       "      <td>2021</td>\n",
       "      <td>Mid-City</td>\n",
       "      <td>MULTIPOLYGON (((-118.36860 34.03497, -118.3685...</td>\n",
       "      <td>44239</td>\n",
       "      <td>4093</td>\n",
       "      <td>3158</td>\n",
       "      <td>633</td>\n",
       "      <td>4510</td>\n",
       "      <td>0.865680</td>\n",
       "      <td>86.567982</td>\n",
       "      <td>0.907740</td>\n",
       "      <td>90.774008</td>\n",
       "    </tr>\n",
       "    <tr>\n",
       "      <th>214</th>\n",
       "      <td>2021</td>\n",
       "      <td>Vermont Square</td>\n",
       "      <td>POLYGON ((-118.28112 34.01109, -118.28121 34.0...</td>\n",
       "      <td>32037</td>\n",
       "      <td>1769</td>\n",
       "      <td>1624</td>\n",
       "      <td>124</td>\n",
       "      <td>3820</td>\n",
       "      <td>0.874529</td>\n",
       "      <td>87.452881</td>\n",
       "      <td>1.227620</td>\n",
       "      <td>122.761971</td>\n",
       "    </tr>\n",
       "    <tr>\n",
       "      <th>194</th>\n",
       "      <td>2021</td>\n",
       "      <td>San Pedro</td>\n",
       "      <td>MULTIPOLYGON (((-118.28845 33.75438, -118.2885...</td>\n",
       "      <td>67972</td>\n",
       "      <td>8103</td>\n",
       "      <td>1458</td>\n",
       "      <td>1116</td>\n",
       "      <td>7909</td>\n",
       "      <td>0.875676</td>\n",
       "      <td>87.567568</td>\n",
       "      <td>1.049340</td>\n",
       "      <td>104.933955</td>\n",
       "    </tr>\n",
       "    <tr>\n",
       "      <th>145</th>\n",
       "      <td>2021</td>\n",
       "      <td>Exposition Park</td>\n",
       "      <td>POLYGON ((-118.29155 34.01837, -118.28294 34.0...</td>\n",
       "      <td>29537</td>\n",
       "      <td>1419</td>\n",
       "      <td>1753</td>\n",
       "      <td>446</td>\n",
       "      <td>3293</td>\n",
       "      <td>0.880020</td>\n",
       "      <td>88.002008</td>\n",
       "      <td>1.376334</td>\n",
       "      <td>137.633366</td>\n",
       "    </tr>\n",
       "    <tr>\n",
       "      <th>147</th>\n",
       "      <td>2021</td>\n",
       "      <td>Florence</td>\n",
       "      <td>POLYGON ((-118.25645 33.98246, -118.25641 33.9...</td>\n",
       "      <td>55192</td>\n",
       "      <td>1847</td>\n",
       "      <td>2347</td>\n",
       "      <td>48</td>\n",
       "      <td>6643</td>\n",
       "      <td>0.884992</td>\n",
       "      <td>88.499246</td>\n",
       "      <td>0.886276</td>\n",
       "      <td>88.627639</td>\n",
       "    </tr>\n",
       "    <tr>\n",
       "      <th>151</th>\n",
       "      <td>2021</td>\n",
       "      <td>Green Meadows</td>\n",
       "      <td>POLYGON ((-118.25411 33.95104, -118.25411 33.9...</td>\n",
       "      <td>34761</td>\n",
       "      <td>1277</td>\n",
       "      <td>1794</td>\n",
       "      <td>0</td>\n",
       "      <td>3149</td>\n",
       "      <td>0.887679</td>\n",
       "      <td>88.767937</td>\n",
       "      <td>1.108507</td>\n",
       "      <td>110.850694</td>\n",
       "    </tr>\n",
       "    <tr>\n",
       "      <th>118</th>\n",
       "      <td>2021</td>\n",
       "      <td>Baldwin Hills/Crenshaw</td>\n",
       "      <td>POLYGON ((-118.36102 34.02532, -118.36026 34.0...</td>\n",
       "      <td>15429</td>\n",
       "      <td>530</td>\n",
       "      <td>2908</td>\n",
       "      <td>192</td>\n",
       "      <td>1070</td>\n",
       "      <td>0.910457</td>\n",
       "      <td>91.045711</td>\n",
       "      <td>0.746479</td>\n",
       "      <td>74.647887</td>\n",
       "    </tr>\n",
       "    <tr>\n",
       "      <th>215</th>\n",
       "      <td>2021</td>\n",
       "      <td>Vermont Vista</td>\n",
       "      <td>POLYGON ((-118.28044 33.92912, -118.28066 33.9...</td>\n",
       "      <td>21618</td>\n",
       "      <td>915</td>\n",
       "      <td>1456</td>\n",
       "      <td>34</td>\n",
       "      <td>2089</td>\n",
       "      <td>0.917454</td>\n",
       "      <td>91.745432</td>\n",
       "      <td>1.194517</td>\n",
       "      <td>119.451697</td>\n",
       "    </tr>\n",
       "    <tr>\n",
       "      <th>216</th>\n",
       "      <td>2021</td>\n",
       "      <td>Vermont-Slauson</td>\n",
       "      <td>POLYGON ((-118.28061 33.99330, -118.28061 33.9...</td>\n",
       "      <td>23414</td>\n",
       "      <td>681</td>\n",
       "      <td>1519</td>\n",
       "      <td>16</td>\n",
       "      <td>2451</td>\n",
       "      <td>0.972471</td>\n",
       "      <td>97.247119</td>\n",
       "      <td>0.899604</td>\n",
       "      <td>89.960370</td>\n",
       "    </tr>\n",
       "    <tr>\n",
       "      <th>198</th>\n",
       "      <td>2021</td>\n",
       "      <td>Sherman Oaks</td>\n",
       "      <td>POLYGON ((-118.41379 34.15664, -118.41379 34.1...</td>\n",
       "      <td>58925</td>\n",
       "      <td>11465</td>\n",
       "      <td>1251</td>\n",
       "      <td>971</td>\n",
       "      <td>2622</td>\n",
       "      <td>0.987372</td>\n",
       "      <td>98.737174</td>\n",
       "      <td>0.919997</td>\n",
       "      <td>91.999679</td>\n",
       "    </tr>\n",
       "    <tr>\n",
       "      <th>181</th>\n",
       "      <td>2021</td>\n",
       "      <td>North Hollywood</td>\n",
       "      <td>POLYGON ((-118.39622 34.20133, -118.39402 34.2...</td>\n",
       "      <td>63369</td>\n",
       "      <td>10519</td>\n",
       "      <td>1653</td>\n",
       "      <td>831</td>\n",
       "      <td>7858</td>\n",
       "      <td>0.987455</td>\n",
       "      <td>98.745520</td>\n",
       "      <td>0.900291</td>\n",
       "      <td>90.029100</td>\n",
       "    </tr>\n",
       "    <tr>\n",
       "      <th>149</th>\n",
       "      <td>2021</td>\n",
       "      <td>Gramercy Park</td>\n",
       "      <td>POLYGON ((-118.30041 33.95002, -118.30073 33.9...</td>\n",
       "      <td>10480</td>\n",
       "      <td>207</td>\n",
       "      <td>1117</td>\n",
       "      <td>0</td>\n",
       "      <td>222</td>\n",
       "      <td>0.990248</td>\n",
       "      <td>99.024823</td>\n",
       "      <td>0.851852</td>\n",
       "      <td>85.185185</td>\n",
       "    </tr>\n",
       "    <tr>\n",
       "      <th>164</th>\n",
       "      <td>2021</td>\n",
       "      <td>Hyde Park</td>\n",
       "      <td>POLYGON ((-118.31761 33.98910, -118.31766 33.9...</td>\n",
       "      <td>36102</td>\n",
       "      <td>647</td>\n",
       "      <td>5222</td>\n",
       "      <td>57</td>\n",
       "      <td>1851</td>\n",
       "      <td>0.997898</td>\n",
       "      <td>99.789796</td>\n",
       "      <td>0.708653</td>\n",
       "      <td>70.865279</td>\n",
       "    </tr>\n",
       "  </tbody>\n",
       "</table>\n",
       "</div>"
      ],
      "text/plain": [
       "     year                    name  \\\n",
       "125  2021     Broadway-Manchester   \n",
       "132  2021     Chesterfield Square   \n",
       "218  2021              West Adams   \n",
       "165  2021          Jefferson Park   \n",
       "175  2021                Mid-City   \n",
       "214  2021          Vermont Square   \n",
       "194  2021               San Pedro   \n",
       "145  2021         Exposition Park   \n",
       "147  2021                Florence   \n",
       "151  2021           Green Meadows   \n",
       "118  2021  Baldwin Hills/Crenshaw   \n",
       "215  2021           Vermont Vista   \n",
       "216  2021         Vermont-Slauson   \n",
       "198  2021            Sherman Oaks   \n",
       "181  2021         North Hollywood   \n",
       "149  2021           Gramercy Park   \n",
       "164  2021               Hyde Park   \n",
       "\n",
       "                                              Geometry  Total  White  Black  \\\n",
       "125  POLYGON ((-118.26954 33.92919, -118.26956 33.9...  25322    975   1555   \n",
       "132  POLYGON ((-118.30898 33.97458, -118.30898 33.9...  15197    127   1260   \n",
       "218  POLYGON ((-118.36955 34.03517, -118.36860 34.0...  19945   1677   1459   \n",
       "165  POLYGON ((-118.31335 34.03721, -118.30900 34.0...  26295   1416   2517   \n",
       "175  MULTIPOLYGON (((-118.36860 34.03497, -118.3685...  44239   4093   3158   \n",
       "214  POLYGON ((-118.28112 34.01109, -118.28121 34.0...  32037   1769   1624   \n",
       "194  MULTIPOLYGON (((-118.28845 33.75438, -118.2885...  67972   8103   1458   \n",
       "145  POLYGON ((-118.29155 34.01837, -118.28294 34.0...  29537   1419   1753   \n",
       "147  POLYGON ((-118.25645 33.98246, -118.25641 33.9...  55192   1847   2347   \n",
       "151  POLYGON ((-118.25411 33.95104, -118.25411 33.9...  34761   1277   1794   \n",
       "118  POLYGON ((-118.36102 34.02532, -118.36026 34.0...  15429    530   2908   \n",
       "215  POLYGON ((-118.28044 33.92912, -118.28066 33.9...  21618    915   1456   \n",
       "216  POLYGON ((-118.28061 33.99330, -118.28061 33.9...  23414    681   1519   \n",
       "198  POLYGON ((-118.41379 34.15664, -118.41379 34.1...  58925  11465   1251   \n",
       "181  POLYGON ((-118.39622 34.20133, -118.39402 34.2...  63369  10519   1653   \n",
       "149  POLYGON ((-118.30041 33.95002, -118.30073 33.9...  10480    207   1117   \n",
       "164  POLYGON ((-118.31761 33.98910, -118.31766 33.9...  36102    647   5222   \n",
       "\n",
       "     Asian  Hispanic     delta  delta_100_black   delta_w  delta_100_white  \n",
       "125     41      2541  0.730047        73.004695  1.090604       109.060403  \n",
       "132     15       865  0.744241        74.424099  0.327320        32.731959  \n",
       "218    172      2305  0.767087        76.708728  0.927032        92.703151  \n",
       "165    333      2680  0.856122        85.612245  1.573333       157.333333  \n",
       "175    633      4510  0.865680        86.567982  0.907740        90.774008  \n",
       "214    124      3820  0.874529        87.452881  1.227620       122.761971  \n",
       "194   1116      7909  0.875676        87.567568  1.049340       104.933955  \n",
       "145    446      3293  0.880020        88.002008  1.376334       137.633366  \n",
       "147     48      6643  0.884992        88.499246  0.886276        88.627639  \n",
       "151      0      3149  0.887679        88.767937  1.108507       110.850694  \n",
       "118    192      1070  0.910457        91.045711  0.746479        74.647887  \n",
       "215     34      2089  0.917454        91.745432  1.194517       119.451697  \n",
       "216     16      2451  0.972471        97.247119  0.899604        89.960370  \n",
       "198    971      2622  0.987372        98.737174  0.919997        91.999679  \n",
       "181    831      7858  0.987455        98.745520  0.900291        90.029100  \n",
       "149      0       222  0.990248        99.024823  0.851852        85.185185  \n",
       "164     57      1851  0.997898        99.789796  0.708653        70.865279  "
      ]
     },
     "execution_count": 358,
     "metadata": {},
     "output_type": "execute_result"
    }
   ],
   "source": [
    "# select for the black communities that are populous and where black folks have moved or been moved out in the past decade\n",
    "nbhr_1 = nbhr.sort_values(by=['name'])\n",
    "nbhr_1 = nbhr[(nbhr['Black']>1000) & (nbhr['delta_100_black']<100)]\n",
    "nbhr_1 = nbhr_1.sort_values(by=['delta_100_black'])\n",
    "nbhr_1.head(20)"
   ]
  },
  {
   "cell_type": "code",
   "execution_count": 359,
   "id": "d7fc5df4-074a-40e3-a901-fcc75e774459",
   "metadata": {},
   "outputs": [
    {
     "data": {
      "application/vnd.plotly.v1+json": {
       "config": {
        "plotlyServerURL": "https://plot.ly"
       },
       "data": [
        {
         "alignmentgroup": "True",
         "hovertemplate": "variable=delta_100_black<br>name=%{x}<br>value=%{y}<extra></extra>",
         "legendgroup": "delta_100_black",
         "marker": {
          "color": "#636efa",
          "pattern": {
           "shape": ""
          }
         },
         "name": "delta_100_black",
         "offsetgroup": "delta_100_black",
         "orientation": "v",
         "showlegend": true,
         "textposition": "auto",
         "type": "bar",
         "x": [
          "Broadway-Manchester",
          "Chesterfield Square",
          "West Adams",
          "Jefferson Park",
          "Mid-City",
          "Vermont Square",
          "San Pedro",
          "Exposition Park",
          "Florence",
          "Green Meadows",
          "Baldwin Hills/Crenshaw",
          "Vermont Vista",
          "Vermont-Slauson",
          "Sherman Oaks",
          "North Hollywood",
          "Gramercy Park",
          "Hyde Park"
         ],
         "xaxis": "x",
         "y": [
          73.00469483568075,
          74.4240992321323,
          76.70872765509989,
          85.61224489795919,
          86.56798245614034,
          87.45288099084544,
          87.56756756756758,
          88.00200803212851,
          88.49924585218703,
          88.76793666501732,
          91.04571070757672,
          91.74543163201008,
          97.24711907810499,
          98.73717442778216,
          98.74551971326166,
          99.02482269503547,
          99.7897955283776
         ],
         "yaxis": "y"
        },
        {
         "alignmentgroup": "True",
         "hovertemplate": "variable=delta_100_white<br>name=%{x}<br>value=%{y}<extra></extra>",
         "legendgroup": "delta_100_white",
         "marker": {
          "color": "#EF553B",
          "pattern": {
           "shape": ""
          }
         },
         "name": "delta_100_white",
         "offsetgroup": "delta_100_white",
         "orientation": "v",
         "showlegend": true,
         "textposition": "auto",
         "type": "bar",
         "x": [
          "Broadway-Manchester",
          "Chesterfield Square",
          "West Adams",
          "Jefferson Park",
          "Mid-City",
          "Vermont Square",
          "San Pedro",
          "Exposition Park",
          "Florence",
          "Green Meadows",
          "Baldwin Hills/Crenshaw",
          "Vermont Vista",
          "Vermont-Slauson",
          "Sherman Oaks",
          "North Hollywood",
          "Gramercy Park",
          "Hyde Park"
         ],
         "xaxis": "x",
         "y": [
          109.06040268456377,
          32.7319587628866,
          92.70315091210614,
          157.33333333333331,
          90.77400754047461,
          122.7619708535739,
          104.93395493395494,
          137.6333656644035,
          88.62763915547025,
          110.85069444444444,
          74.64788732394366,
          119.45169712793732,
          89.96036988110964,
          91.99967902423367,
          90.02909962341664,
          85.18518518518519,
          70.86527929901423
         ],
         "yaxis": "y"
        }
       ],
       "layout": {
        "autosize": true,
        "barmode": "relative",
        "legend": {
         "title": {
          "text": "variable"
         },
         "tracegroupgap": 0
        },
        "margin": {
         "t": 60
        },
        "template": {
         "data": {
          "bar": [
           {
            "error_x": {
             "color": "#2a3f5f"
            },
            "error_y": {
             "color": "#2a3f5f"
            },
            "marker": {
             "line": {
              "color": "#E5ECF6",
              "width": 0.5
             },
             "pattern": {
              "fillmode": "overlay",
              "size": 10,
              "solidity": 0.2
             }
            },
            "type": "bar"
           }
          ],
          "barpolar": [
           {
            "marker": {
             "line": {
              "color": "#E5ECF6",
              "width": 0.5
             },
             "pattern": {
              "fillmode": "overlay",
              "size": 10,
              "solidity": 0.2
             }
            },
            "type": "barpolar"
           }
          ],
          "carpet": [
           {
            "aaxis": {
             "endlinecolor": "#2a3f5f",
             "gridcolor": "white",
             "linecolor": "white",
             "minorgridcolor": "white",
             "startlinecolor": "#2a3f5f"
            },
            "baxis": {
             "endlinecolor": "#2a3f5f",
             "gridcolor": "white",
             "linecolor": "white",
             "minorgridcolor": "white",
             "startlinecolor": "#2a3f5f"
            },
            "type": "carpet"
           }
          ],
          "choropleth": [
           {
            "colorbar": {
             "outlinewidth": 0,
             "ticks": ""
            },
            "type": "choropleth"
           }
          ],
          "contour": [
           {
            "colorbar": {
             "outlinewidth": 0,
             "ticks": ""
            },
            "colorscale": [
             [
              0,
              "#0d0887"
             ],
             [
              0.1111111111111111,
              "#46039f"
             ],
             [
              0.2222222222222222,
              "#7201a8"
             ],
             [
              0.3333333333333333,
              "#9c179e"
             ],
             [
              0.4444444444444444,
              "#bd3786"
             ],
             [
              0.5555555555555556,
              "#d8576b"
             ],
             [
              0.6666666666666666,
              "#ed7953"
             ],
             [
              0.7777777777777778,
              "#fb9f3a"
             ],
             [
              0.8888888888888888,
              "#fdca26"
             ],
             [
              1,
              "#f0f921"
             ]
            ],
            "type": "contour"
           }
          ],
          "contourcarpet": [
           {
            "colorbar": {
             "outlinewidth": 0,
             "ticks": ""
            },
            "type": "contourcarpet"
           }
          ],
          "heatmap": [
           {
            "colorbar": {
             "outlinewidth": 0,
             "ticks": ""
            },
            "colorscale": [
             [
              0,
              "#0d0887"
             ],
             [
              0.1111111111111111,
              "#46039f"
             ],
             [
              0.2222222222222222,
              "#7201a8"
             ],
             [
              0.3333333333333333,
              "#9c179e"
             ],
             [
              0.4444444444444444,
              "#bd3786"
             ],
             [
              0.5555555555555556,
              "#d8576b"
             ],
             [
              0.6666666666666666,
              "#ed7953"
             ],
             [
              0.7777777777777778,
              "#fb9f3a"
             ],
             [
              0.8888888888888888,
              "#fdca26"
             ],
             [
              1,
              "#f0f921"
             ]
            ],
            "type": "heatmap"
           }
          ],
          "heatmapgl": [
           {
            "colorbar": {
             "outlinewidth": 0,
             "ticks": ""
            },
            "colorscale": [
             [
              0,
              "#0d0887"
             ],
             [
              0.1111111111111111,
              "#46039f"
             ],
             [
              0.2222222222222222,
              "#7201a8"
             ],
             [
              0.3333333333333333,
              "#9c179e"
             ],
             [
              0.4444444444444444,
              "#bd3786"
             ],
             [
              0.5555555555555556,
              "#d8576b"
             ],
             [
              0.6666666666666666,
              "#ed7953"
             ],
             [
              0.7777777777777778,
              "#fb9f3a"
             ],
             [
              0.8888888888888888,
              "#fdca26"
             ],
             [
              1,
              "#f0f921"
             ]
            ],
            "type": "heatmapgl"
           }
          ],
          "histogram": [
           {
            "marker": {
             "pattern": {
              "fillmode": "overlay",
              "size": 10,
              "solidity": 0.2
             }
            },
            "type": "histogram"
           }
          ],
          "histogram2d": [
           {
            "colorbar": {
             "outlinewidth": 0,
             "ticks": ""
            },
            "colorscale": [
             [
              0,
              "#0d0887"
             ],
             [
              0.1111111111111111,
              "#46039f"
             ],
             [
              0.2222222222222222,
              "#7201a8"
             ],
             [
              0.3333333333333333,
              "#9c179e"
             ],
             [
              0.4444444444444444,
              "#bd3786"
             ],
             [
              0.5555555555555556,
              "#d8576b"
             ],
             [
              0.6666666666666666,
              "#ed7953"
             ],
             [
              0.7777777777777778,
              "#fb9f3a"
             ],
             [
              0.8888888888888888,
              "#fdca26"
             ],
             [
              1,
              "#f0f921"
             ]
            ],
            "type": "histogram2d"
           }
          ],
          "histogram2dcontour": [
           {
            "colorbar": {
             "outlinewidth": 0,
             "ticks": ""
            },
            "colorscale": [
             [
              0,
              "#0d0887"
             ],
             [
              0.1111111111111111,
              "#46039f"
             ],
             [
              0.2222222222222222,
              "#7201a8"
             ],
             [
              0.3333333333333333,
              "#9c179e"
             ],
             [
              0.4444444444444444,
              "#bd3786"
             ],
             [
              0.5555555555555556,
              "#d8576b"
             ],
             [
              0.6666666666666666,
              "#ed7953"
             ],
             [
              0.7777777777777778,
              "#fb9f3a"
             ],
             [
              0.8888888888888888,
              "#fdca26"
             ],
             [
              1,
              "#f0f921"
             ]
            ],
            "type": "histogram2dcontour"
           }
          ],
          "mesh3d": [
           {
            "colorbar": {
             "outlinewidth": 0,
             "ticks": ""
            },
            "type": "mesh3d"
           }
          ],
          "parcoords": [
           {
            "line": {
             "colorbar": {
              "outlinewidth": 0,
              "ticks": ""
             }
            },
            "type": "parcoords"
           }
          ],
          "pie": [
           {
            "automargin": true,
            "type": "pie"
           }
          ],
          "scatter": [
           {
            "fillpattern": {
             "fillmode": "overlay",
             "size": 10,
             "solidity": 0.2
            },
            "type": "scatter"
           }
          ],
          "scatter3d": [
           {
            "line": {
             "colorbar": {
              "outlinewidth": 0,
              "ticks": ""
             }
            },
            "marker": {
             "colorbar": {
              "outlinewidth": 0,
              "ticks": ""
             }
            },
            "type": "scatter3d"
           }
          ],
          "scattercarpet": [
           {
            "marker": {
             "colorbar": {
              "outlinewidth": 0,
              "ticks": ""
             }
            },
            "type": "scattercarpet"
           }
          ],
          "scattergeo": [
           {
            "marker": {
             "colorbar": {
              "outlinewidth": 0,
              "ticks": ""
             }
            },
            "type": "scattergeo"
           }
          ],
          "scattergl": [
           {
            "marker": {
             "colorbar": {
              "outlinewidth": 0,
              "ticks": ""
             }
            },
            "type": "scattergl"
           }
          ],
          "scattermapbox": [
           {
            "marker": {
             "colorbar": {
              "outlinewidth": 0,
              "ticks": ""
             }
            },
            "type": "scattermapbox"
           }
          ],
          "scatterpolar": [
           {
            "marker": {
             "colorbar": {
              "outlinewidth": 0,
              "ticks": ""
             }
            },
            "type": "scatterpolar"
           }
          ],
          "scatterpolargl": [
           {
            "marker": {
             "colorbar": {
              "outlinewidth": 0,
              "ticks": ""
             }
            },
            "type": "scatterpolargl"
           }
          ],
          "scatterternary": [
           {
            "marker": {
             "colorbar": {
              "outlinewidth": 0,
              "ticks": ""
             }
            },
            "type": "scatterternary"
           }
          ],
          "surface": [
           {
            "colorbar": {
             "outlinewidth": 0,
             "ticks": ""
            },
            "colorscale": [
             [
              0,
              "#0d0887"
             ],
             [
              0.1111111111111111,
              "#46039f"
             ],
             [
              0.2222222222222222,
              "#7201a8"
             ],
             [
              0.3333333333333333,
              "#9c179e"
             ],
             [
              0.4444444444444444,
              "#bd3786"
             ],
             [
              0.5555555555555556,
              "#d8576b"
             ],
             [
              0.6666666666666666,
              "#ed7953"
             ],
             [
              0.7777777777777778,
              "#fb9f3a"
             ],
             [
              0.8888888888888888,
              "#fdca26"
             ],
             [
              1,
              "#f0f921"
             ]
            ],
            "type": "surface"
           }
          ],
          "table": [
           {
            "cells": {
             "fill": {
              "color": "#EBF0F8"
             },
             "line": {
              "color": "white"
             }
            },
            "header": {
             "fill": {
              "color": "#C8D4E3"
             },
             "line": {
              "color": "white"
             }
            },
            "type": "table"
           }
          ]
         },
         "layout": {
          "annotationdefaults": {
           "arrowcolor": "#2a3f5f",
           "arrowhead": 0,
           "arrowwidth": 1
          },
          "autotypenumbers": "strict",
          "coloraxis": {
           "colorbar": {
            "outlinewidth": 0,
            "ticks": ""
           }
          },
          "colorscale": {
           "diverging": [
            [
             0,
             "#8e0152"
            ],
            [
             0.1,
             "#c51b7d"
            ],
            [
             0.2,
             "#de77ae"
            ],
            [
             0.3,
             "#f1b6da"
            ],
            [
             0.4,
             "#fde0ef"
            ],
            [
             0.5,
             "#f7f7f7"
            ],
            [
             0.6,
             "#e6f5d0"
            ],
            [
             0.7,
             "#b8e186"
            ],
            [
             0.8,
             "#7fbc41"
            ],
            [
             0.9,
             "#4d9221"
            ],
            [
             1,
             "#276419"
            ]
           ],
           "sequential": [
            [
             0,
             "#0d0887"
            ],
            [
             0.1111111111111111,
             "#46039f"
            ],
            [
             0.2222222222222222,
             "#7201a8"
            ],
            [
             0.3333333333333333,
             "#9c179e"
            ],
            [
             0.4444444444444444,
             "#bd3786"
            ],
            [
             0.5555555555555556,
             "#d8576b"
            ],
            [
             0.6666666666666666,
             "#ed7953"
            ],
            [
             0.7777777777777778,
             "#fb9f3a"
            ],
            [
             0.8888888888888888,
             "#fdca26"
            ],
            [
             1,
             "#f0f921"
            ]
           ],
           "sequentialminus": [
            [
             0,
             "#0d0887"
            ],
            [
             0.1111111111111111,
             "#46039f"
            ],
            [
             0.2222222222222222,
             "#7201a8"
            ],
            [
             0.3333333333333333,
             "#9c179e"
            ],
            [
             0.4444444444444444,
             "#bd3786"
            ],
            [
             0.5555555555555556,
             "#d8576b"
            ],
            [
             0.6666666666666666,
             "#ed7953"
            ],
            [
             0.7777777777777778,
             "#fb9f3a"
            ],
            [
             0.8888888888888888,
             "#fdca26"
            ],
            [
             1,
             "#f0f921"
            ]
           ]
          },
          "colorway": [
           "#636efa",
           "#EF553B",
           "#00cc96",
           "#ab63fa",
           "#FFA15A",
           "#19d3f3",
           "#FF6692",
           "#B6E880",
           "#FF97FF",
           "#FECB52"
          ],
          "font": {
           "color": "#2a3f5f"
          },
          "geo": {
           "bgcolor": "white",
           "lakecolor": "white",
           "landcolor": "#E5ECF6",
           "showlakes": true,
           "showland": true,
           "subunitcolor": "white"
          },
          "hoverlabel": {
           "align": "left"
          },
          "hovermode": "closest",
          "mapbox": {
           "style": "light"
          },
          "paper_bgcolor": "white",
          "plot_bgcolor": "#E5ECF6",
          "polar": {
           "angularaxis": {
            "gridcolor": "white",
            "linecolor": "white",
            "ticks": ""
           },
           "bgcolor": "#E5ECF6",
           "radialaxis": {
            "gridcolor": "white",
            "linecolor": "white",
            "ticks": ""
           }
          },
          "scene": {
           "xaxis": {
            "backgroundcolor": "#E5ECF6",
            "gridcolor": "white",
            "gridwidth": 2,
            "linecolor": "white",
            "showbackground": true,
            "ticks": "",
            "zerolinecolor": "white"
           },
           "yaxis": {
            "backgroundcolor": "#E5ECF6",
            "gridcolor": "white",
            "gridwidth": 2,
            "linecolor": "white",
            "showbackground": true,
            "ticks": "",
            "zerolinecolor": "white"
           },
           "zaxis": {
            "backgroundcolor": "#E5ECF6",
            "gridcolor": "white",
            "gridwidth": 2,
            "linecolor": "white",
            "showbackground": true,
            "ticks": "",
            "zerolinecolor": "white"
           }
          },
          "shapedefaults": {
           "line": {
            "color": "#2a3f5f"
           }
          },
          "ternary": {
           "aaxis": {
            "gridcolor": "white",
            "linecolor": "white",
            "ticks": ""
           },
           "baxis": {
            "gridcolor": "white",
            "linecolor": "white",
            "ticks": ""
           },
           "bgcolor": "#E5ECF6",
           "caxis": {
            "gridcolor": "white",
            "linecolor": "white",
            "ticks": ""
           }
          },
          "title": {
           "x": 0.05
          },
          "xaxis": {
           "automargin": true,
           "gridcolor": "white",
           "linecolor": "white",
           "ticks": "",
           "title": {
            "standoff": 15
           },
           "zerolinecolor": "white",
           "zerolinewidth": 2
          },
          "yaxis": {
           "automargin": true,
           "gridcolor": "white",
           "linecolor": "white",
           "ticks": "",
           "title": {
            "standoff": 15
           },
           "zerolinecolor": "white",
           "zerolinewidth": 2
          }
         }
        },
        "xaxis": {
         "anchor": "y",
         "autorange": true,
         "domain": [
          0,
          1
         ],
         "range": [
          -0.5,
          16.5
         ],
         "title": {
          "text": "name"
         },
         "type": "category"
        },
        "yaxis": {
         "anchor": "x",
         "autorange": true,
         "domain": [
          0,
          1
         ],
         "range": [
          0,
          255.73218761188684
         ],
         "title": {
          "text": "value"
         },
         "type": "linear"
        }
       }
      },
      "image/png": "[encoded data removed]",
      "text/html": [
       "<div>                            <div id=\"1a2e643c-d169-4429-bbb0-1fa76f44ded1\" class=\"plotly-graph-div\" style=\"height:525px; width:100%;\"></div>            <script type=\"text/javascript\">                require([\"plotly\"], function(Plotly) {                    window.PLOTLYENV=window.PLOTLYENV || {};                                    if (document.getElementById(\"1a2e643c-d169-4429-bbb0-1fa76f44ded1\")) {                    Plotly.newPlot(                        \"1a2e643c-d169-4429-bbb0-1fa76f44ded1\",                        [{\"alignmentgroup\":\"True\",\"hovertemplate\":\"variable=delta_100_black<br>name=%{x}<br>value=%{y}<extra></extra>\",\"legendgroup\":\"delta_100_black\",\"marker\":{\"color\":\"#636efa\",\"pattern\":{\"shape\":\"\"}},\"name\":\"delta_100_black\",\"offsetgroup\":\"delta_100_black\",\"orientation\":\"v\",\"showlegend\":true,\"textposition\":\"auto\",\"x\":[\"Broadway-Manchester\",\"Chesterfield Square\",\"West Adams\",\"Jefferson Park\",\"Mid-City\",\"Vermont Square\",\"San Pedro\",\"Exposition Park\",\"Florence\",\"Green Meadows\",\"Baldwin Hills/Crenshaw\",\"Vermont Vista\",\"Vermont-Slauson\",\"Sherman Oaks\",\"North Hollywood\",\"Gramercy Park\",\"Hyde Park\"],\"xaxis\":\"x\",\"y\":[73.00469483568075,74.4240992321323,76.70872765509989,85.61224489795919,86.56798245614034,87.45288099084544,87.56756756756758,88.00200803212851,88.49924585218703,88.76793666501732,91.04571070757672,91.74543163201008,97.24711907810499,98.73717442778216,98.74551971326166,99.02482269503547,99.7897955283776],\"yaxis\":\"y\",\"type\":\"bar\"},{\"alignmentgroup\":\"True\",\"hovertemplate\":\"variable=delta_100_white<br>name=%{x}<br>value=%{y}<extra></extra>\",\"legendgroup\":\"delta_100_white\",\"marker\":{\"color\":\"#EF553B\",\"pattern\":{\"shape\":\"\"}},\"name\":\"delta_100_white\",\"offsetgroup\":\"delta_100_white\",\"orientation\":\"v\",\"showlegend\":true,\"textposition\":\"auto\",\"x\":[\"Broadway-Manchester\",\"Chesterfield Square\",\"West Adams\",\"Jefferson Park\",\"Mid-City\",\"Vermont Square\",\"San Pedro\",\"Exposition Park\",\"Florence\",\"Green Meadows\",\"Baldwin Hills/Crenshaw\",\"Vermont Vista\",\"Vermont-Slauson\",\"Sherman Oaks\",\"North Hollywood\",\"Gramercy Park\",\"Hyde Park\"],\"xaxis\":\"x\",\"y\":[109.06040268456377,32.7319587628866,92.70315091210614,157.33333333333331,90.77400754047461,122.7619708535739,104.93395493395494,137.6333656644035,88.62763915547025,110.85069444444444,74.64788732394366,119.45169712793732,89.96036988110964,91.99967902423367,90.02909962341664,85.18518518518519,70.86527929901423],\"yaxis\":\"y\",\"type\":\"bar\"}],                        {\"template\":{\"data\":{\"histogram2dcontour\":[{\"type\":\"histogram2dcontour\",\"colorbar\":{\"outlinewidth\":0,\"ticks\":\"\"},\"colorscale\":[[0.0,\"#0d0887\"],[0.1111111111111111,\"#46039f\"],[0.2222222222222222,\"#7201a8\"],[0.3333333333333333,\"#9c179e\"],[0.4444444444444444,\"#bd3786\"],[0.5555555555555556,\"#d8576b\"],[0.6666666666666666,\"#ed7953\"],[0.7777777777777778,\"#fb9f3a\"],[0.8888888888888888,\"#fdca26\"],[1.0,\"#f0f921\"]]}],\"choropleth\":[{\"type\":\"choropleth\",\"colorbar\":{\"outlinewidth\":0,\"ticks\":\"\"}}],\"histogram2d\":[{\"type\":\"histogram2d\",\"colorbar\":{\"outlinewidth\":0,\"ticks\":\"\"},\"colorscale\":[[0.0,\"#0d0887\"],[0.1111111111111111,\"#46039f\"],[0.2222222222222222,\"#7201a8\"],[0.3333333333333333,\"#9c179e\"],[0.4444444444444444,\"#bd3786\"],[0.5555555555555556,\"#d8576b\"],[0.6666666666666666,\"#ed7953\"],[0.7777777777777778,\"#fb9f3a\"],[0.8888888888888888,\"#fdca26\"],[1.0,\"#f0f921\"]]}],\"heatmap\":[{\"type\":\"heatmap\",\"colorbar\":{\"outlinewidth\":0,\"ticks\":\"\"},\"colorscale\":[[0.0,\"#0d0887\"],[0.1111111111111111,\"#46039f\"],[0.2222222222222222,\"#7201a8\"],[0.3333333333333333,\"#9c179e\"],[0.4444444444444444,\"#bd3786\"],[0.5555555555555556,\"#d8576b\"],[0.6666666666666666,\"#ed7953\"],[0.7777777777777778,\"#fb9f3a\"],[0.8888888888888888,\"#fdca26\"],[1.0,\"#f0f921\"]]}],\"heatmapgl\":[{\"type\":\"heatmapgl\",\"colorbar\":{\"outlinewidth\":0,\"ticks\":\"\"},\"colorscale\":[[0.0,\"#0d0887\"],[0.1111111111111111,\"#46039f\"],[0.2222222222222222,\"#7201a8\"],[0.3333333333333333,\"#9c179e\"],[0.4444444444444444,\"#bd3786\"],[0.5555555555555556,\"#d8576b\"],[0.6666666666666666,\"#ed7953\"],[0.7777777777777778,\"#fb9f3a\"],[0.8888888888888888,\"#fdca26\"],[1.0,\"#f0f921\"]]}],\"contourcarpet\":[{\"type\":\"contourcarpet\",\"colorbar\":{\"outlinewidth\":0,\"ticks\":\"\"}}],\"contour\":[{\"type\":\"contour\",\"colorbar\":{\"outlinewidth\":0,\"ticks\":\"\"},\"colorscale\":[[0.0,\"#0d0887\"],[0.1111111111111111,\"#46039f\"],[0.2222222222222222,\"#7201a8\"],[0.3333333333333333,\"#9c179e\"],[0.4444444444444444,\"#bd3786\"],[0.5555555555555556,\"#d8576b\"],[0.6666666666666666,\"#ed7953\"],[0.7777777777777778,\"#fb9f3a\"],[0.8888888888888888,\"#fdca26\"],[1.0,\"#f0f921\"]]}],\"surface\":[{\"type\":\"surface\",\"colorbar\":{\"outlinewidth\":0,\"ticks\":\"\"},\"colorscale\":[[0.0,\"#0d0887\"],[0.1111111111111111,\"#46039f\"],[0.2222222222222222,\"#7201a8\"],[0.3333333333333333,\"#9c179e\"],[0.4444444444444444,\"#bd3786\"],[0.5555555555555556,\"#d8576b\"],[0.6666666666666666,\"#ed7953\"],[0.7777777777777778,\"#fb9f3a\"],[0.8888888888888888,\"#fdca26\"],[1.0,\"#f0f921\"]]}],\"mesh3d\":[{\"type\":\"mesh3d\",\"colorbar\":{\"outlinewidth\":0,\"ticks\":\"\"}}],\"scatter\":[{\"fillpattern\":{\"fillmode\":\"overlay\",\"size\":10,\"solidity\":0.2},\"type\":\"scatter\"}],\"parcoords\":[{\"type\":\"parcoords\",\"line\":{\"colorbar\":{\"outlinewidth\":0,\"ticks\":\"\"}}}],\"scatterpolargl\":[{\"type\":\"scatterpolargl\",\"marker\":{\"colorbar\":{\"outlinewidth\":0,\"ticks\":\"\"}}}],\"bar\":[{\"error_x\":{\"color\":\"#2a3f5f\"},\"error_y\":{\"color\":\"#2a3f5f\"},\"marker\":{\"line\":{\"color\":\"#E5ECF6\",\"width\":0.5},\"pattern\":{\"fillmode\":\"overlay\",\"size\":10,\"solidity\":0.2}},\"type\":\"bar\"}],\"scattergeo\":[{\"type\":\"scattergeo\",\"marker\":{\"colorbar\":{\"outlinewidth\":0,\"ticks\":\"\"}}}],\"scatterpolar\":[{\"type\":\"scatterpolar\",\"marker\":{\"colorbar\":{\"outlinewidth\":0,\"ticks\":\"\"}}}],\"histogram\":[{\"marker\":{\"pattern\":{\"fillmode\":\"overlay\",\"size\":10,\"solidity\":0.2}},\"type\":\"histogram\"}],\"scattergl\":[{\"type\":\"scattergl\",\"marker\":{\"colorbar\":{\"outlinewidth\":0,\"ticks\":\"\"}}}],\"scatter3d\":[{\"type\":\"scatter3d\",\"line\":{\"colorbar\":{\"outlinewidth\":0,\"ticks\":\"\"}},\"marker\":{\"colorbar\":{\"outlinewidth\":0,\"ticks\":\"\"}}}],\"scattermapbox\":[{\"type\":\"scattermapbox\",\"marker\":{\"colorbar\":{\"outlinewidth\":0,\"ticks\":\"\"}}}],\"scatterternary\":[{\"type\":\"scatterternary\",\"marker\":{\"colorbar\":{\"outlinewidth\":0,\"ticks\":\"\"}}}],\"scattercarpet\":[{\"type\":\"scattercarpet\",\"marker\":{\"colorbar\":{\"outlinewidth\":0,\"ticks\":\"\"}}}],\"carpet\":[{\"aaxis\":{\"endlinecolor\":\"#2a3f5f\",\"gridcolor\":\"white\",\"linecolor\":\"white\",\"minorgridcolor\":\"white\",\"startlinecolor\":\"#2a3f5f\"},\"baxis\":{\"endlinecolor\":\"#2a3f5f\",\"gridcolor\":\"white\",\"linecolor\":\"white\",\"minorgridcolor\":\"white\",\"startlinecolor\":\"#2a3f5f\"},\"type\":\"carpet\"}],\"table\":[{\"cells\":{\"fill\":{\"color\":\"#EBF0F8\"},\"line\":{\"color\":\"white\"}},\"header\":{\"fill\":{\"color\":\"#C8D4E3\"},\"line\":{\"color\":\"white\"}},\"type\":\"table\"}],\"barpolar\":[{\"marker\":{\"line\":{\"color\":\"#E5ECF6\",\"width\":0.5},\"pattern\":{\"fillmode\":\"overlay\",\"size\":10,\"solidity\":0.2}},\"type\":\"barpolar\"}],\"pie\":[{\"automargin\":true,\"type\":\"pie\"}]},\"layout\":{\"autotypenumbers\":\"strict\",\"colorway\":[\"#636efa\",\"#EF553B\",\"#00cc96\",\"#ab63fa\",\"#FFA15A\",\"#19d3f3\",\"#FF6692\",\"#B6E880\",\"#FF97FF\",\"#FECB52\"],\"font\":{\"color\":\"#2a3f5f\"},\"hovermode\":\"closest\",\"hoverlabel\":{\"align\":\"left\"},\"paper_bgcolor\":\"white\",\"plot_bgcolor\":\"#E5ECF6\",\"polar\":{\"bgcolor\":\"#E5ECF6\",\"angularaxis\":{\"gridcolor\":\"white\",\"linecolor\":\"white\",\"ticks\":\"\"},\"radialaxis\":{\"gridcolor\":\"white\",\"linecolor\":\"white\",\"ticks\":\"\"}},\"ternary\":{\"bgcolor\":\"#E5ECF6\",\"aaxis\":{\"gridcolor\":\"white\",\"linecolor\":\"white\",\"ticks\":\"\"},\"baxis\":{\"gridcolor\":\"white\",\"linecolor\":\"white\",\"ticks\":\"\"},\"caxis\":{\"gridcolor\":\"white\",\"linecolor\":\"white\",\"ticks\":\"\"}},\"coloraxis\":{\"colorbar\":{\"outlinewidth\":0,\"ticks\":\"\"}},\"colorscale\":{\"sequential\":[[0.0,\"#0d0887\"],[0.1111111111111111,\"#46039f\"],[0.2222222222222222,\"#7201a8\"],[0.3333333333333333,\"#9c179e\"],[0.4444444444444444,\"#bd3786\"],[0.5555555555555556,\"#d8576b\"],[0.6666666666666666,\"#ed7953\"],[0.7777777777777778,\"#fb9f3a\"],[0.8888888888888888,\"#fdca26\"],[1.0,\"#f0f921\"]],\"sequentialminus\":[[0.0,\"#0d0887\"],[0.1111111111111111,\"#46039f\"],[0.2222222222222222,\"#7201a8\"],[0.3333333333333333,\"#9c179e\"],[0.4444444444444444,\"#bd3786\"],[0.5555555555555556,\"#d8576b\"],[0.6666666666666666,\"#ed7953\"],[0.7777777777777778,\"#fb9f3a\"],[0.8888888888888888,\"#fdca26\"],[1.0,\"#f0f921\"]],\"diverging\":[[0,\"#8e0152\"],[0.1,\"#c51b7d\"],[0.2,\"#de77ae\"],[0.3,\"#f1b6da\"],[0.4,\"#fde0ef\"],[0.5,\"#f7f7f7\"],[0.6,\"#e6f5d0\"],[0.7,\"#b8e186\"],[0.8,\"#7fbc41\"],[0.9,\"#4d9221\"],[1,\"#276419\"]]},\"xaxis\":{\"gridcolor\":\"white\",\"linecolor\":\"white\",\"ticks\":\"\",\"title\":{\"standoff\":15},\"zerolinecolor\":\"white\",\"automargin\":true,\"zerolinewidth\":2},\"yaxis\":{\"gridcolor\":\"white\",\"linecolor\":\"white\",\"ticks\":\"\",\"title\":{\"standoff\":15},\"zerolinecolor\":\"white\",\"automargin\":true,\"zerolinewidth\":2},\"scene\":{\"xaxis\":{\"backgroundcolor\":\"#E5ECF6\",\"gridcolor\":\"white\",\"linecolor\":\"white\",\"showbackground\":true,\"ticks\":\"\",\"zerolinecolor\":\"white\",\"gridwidth\":2},\"yaxis\":{\"backgroundcolor\":\"#E5ECF6\",\"gridcolor\":\"white\",\"linecolor\":\"white\",\"showbackground\":true,\"ticks\":\"\",\"zerolinecolor\":\"white\",\"gridwidth\":2},\"zaxis\":{\"backgroundcolor\":\"#E5ECF6\",\"gridcolor\":\"white\",\"linecolor\":\"white\",\"showbackground\":true,\"ticks\":\"\",\"zerolinecolor\":\"white\",\"gridwidth\":2}},\"shapedefaults\":{\"line\":{\"color\":\"#2a3f5f\"}},\"annotationdefaults\":{\"arrowcolor\":\"#2a3f5f\",\"arrowhead\":0,\"arrowwidth\":1},\"geo\":{\"bgcolor\":\"white\",\"landcolor\":\"#E5ECF6\",\"subunitcolor\":\"white\",\"showland\":true,\"showlakes\":true,\"lakecolor\":\"white\"},\"title\":{\"x\":0.05},\"mapbox\":{\"style\":\"light\"}}},\"xaxis\":{\"anchor\":\"y\",\"domain\":[0.0,1.0],\"title\":{\"text\":\"name\"}},\"yaxis\":{\"anchor\":\"x\",\"domain\":[0.0,1.0],\"title\":{\"text\":\"value\"}},\"legend\":{\"title\":{\"text\":\"variable\"},\"tracegroupgap\":0},\"margin\":{\"t\":60},\"barmode\":\"relative\"},                        {\"responsive\": true}                    ).then(function(){\n",
       "                            \n",
       "var gd = document.getElementById('1a2e643c-d169-4429-bbb0-1fa76f44ded1');\n",
       "var x = new MutationObserver(function (mutations, observer) {{\n",
       "        var display = window.getComputedStyle(gd).display;\n",
       "        if (!display || display === 'none') {{\n",
       "            console.log([gd, 'removed!']);\n",
       "            Plotly.purge(gd);\n",
       "            observer.disconnect();\n",
       "        }}\n",
       "}});\n",
       "\n",
       "// Listen for the removal of the full notebook cells\n",
       "var notebookContainer = gd.closest('#notebook-container');\n",
       "if (notebookContainer) {{\n",
       "    x.observe(notebookContainer, {childList: true});\n",
       "}}\n",
       "\n",
       "// Listen for the clearing of the current output cell\n",
       "var outputEl = gd.closest('.output');\n",
       "if (outputEl) {{\n",
       "    x.observe(outputEl, {childList: true});\n",
       "}}\n",
       "\n",
       "                        })                };                });            </script>        </div>"
      ]
     },
     "metadata": {},
     "output_type": "display_data"
    }
   ],
   "source": [
    "# test graphs I\n",
    "fig = px.bar(nbhr_1.head(20),\n",
    "       x='name',\n",
    "       y=['delta_100_black','delta_100_white'],\n",
    ")\n",
    "\n",
    "fig.show()"
   ]
  },
  {
   "cell_type": "code",
   "execution_count": 403,
   "id": "1d9177e7-f155-4ebc-9bf9-941bbc9b597b",
   "metadata": {},
   "outputs": [
    {
     "data": {
      "application/vnd.plotly.v1+json": {
       "config": {
        "plotlyServerURL": "https://plot.ly"
       },
       "data": [
        {
         "marker": {
          "color": "rgb(30, 50, 350)"
         },
         "name": "Black out",
         "type": "bar",
         "x": [
          "Broadway-Manchester",
          "Chesterfield Square",
          "West Adams",
          "Jefferson Park",
          "Mid-City",
          "Vermont Square",
          "San Pedro",
          "Exposition Park",
          "Florence",
          "Green Meadows",
          "Baldwin Hills/Crenshaw",
          "Vermont Vista",
          "Vermont-Slauson",
          "Sherman Oaks",
          "North Hollywood",
          "Gramercy Park",
          "Hyde Park"
         ],
         "y": [
          73.00469483568075,
          74.4240992321323,
          76.70872765509989,
          85.61224489795919,
          86.56798245614034,
          87.45288099084544,
          87.56756756756758,
          88.00200803212851,
          88.49924585218703,
          88.76793666501732,
          91.04571070757672,
          91.74543163201008,
          97.24711907810499,
          98.73717442778216,
          98.74551971326166,
          99.02482269503547,
          99.7897955283776
         ]
        },
        {
         "marker": {
          "color": "rgb(26, 150, 200)"
         },
         "name": "White migration",
         "opacity": 0.5,
         "type": "bar",
         "x": [
          "Broadway-Manchester",
          "Chesterfield Square",
          "West Adams",
          "Jefferson Park",
          "Mid-City",
          "Vermont Square",
          "San Pedro",
          "Exposition Park",
          "Florence",
          "Green Meadows",
          "Baldwin Hills/Crenshaw",
          "Vermont Vista",
          "Vermont-Slauson",
          "Sherman Oaks",
          "North Hollywood",
          "Gramercy Park",
          "Hyde Park"
         ],
         "y": [
          109.06040268456377,
          32.7319587628866,
          92.70315091210614,
          157.33333333333331,
          90.77400754047461,
          122.7619708535739,
          104.93395493395494,
          137.6333656644035,
          88.62763915547025,
          110.85069444444444,
          74.64788732394366,
          119.45169712793732,
          89.96036988110964,
          91.99967902423367,
          90.02909962341664,
          85.18518518518519,
          70.86527929901423
         ]
        }
       ],
       "layout": {
        "annotations": [
         {
          "showarrow": false,
          "text": "in-out migration threshold",
          "x": 1,
          "xanchor": "right",
          "xref": "x domain",
          "y": 100,
          "yanchor": "bottom",
          "yref": "y"
         }
        ],
        "bargap": 0.15,
        "bargroupgap": 0.1,
        "barmode": "group",
        "height": 500,
        "legend": {
         "bgcolor": "rgba(255, 255, 255, 0)",
         "bordercolor": "rgba(255, 255, 255, 0)",
         "x": 0,
         "y": 1
        },
        "shapes": [
         {
          "line": {
           "dash": "dot"
          },
          "type": "line",
          "x0": 0,
          "x1": 1,
          "xref": "x domain",
          "y0": 100,
          "y1": 100,
          "yref": "y"
         }
        ],
        "template": {
         "data": {
          "bar": [
           {
            "error_x": {
             "color": "#2a3f5f"
            },
            "error_y": {
             "color": "#2a3f5f"
            },
            "marker": {
             "line": {
              "color": "#E5ECF6",
              "width": 0.5
             },
             "pattern": {
              "fillmode": "overlay",
              "size": 10,
              "solidity": 0.2
             }
            },
            "type": "bar"
           }
          ],
          "barpolar": [
           {
            "marker": {
             "line": {
              "color": "#E5ECF6",
              "width": 0.5
             },
             "pattern": {
              "fillmode": "overlay",
              "size": 10,
              "solidity": 0.2
             }
            },
            "type": "barpolar"
           }
          ],
          "carpet": [
           {
            "aaxis": {
             "endlinecolor": "#2a3f5f",
             "gridcolor": "white",
             "linecolor": "white",
             "minorgridcolor": "white",
             "startlinecolor": "#2a3f5f"
            },
            "baxis": {
             "endlinecolor": "#2a3f5f",
             "gridcolor": "white",
             "linecolor": "white",
             "minorgridcolor": "white",
             "startlinecolor": "#2a3f5f"
            },
            "type": "carpet"
           }
          ],
          "choropleth": [
           {
            "colorbar": {
             "outlinewidth": 0,
             "ticks": ""
            },
            "type": "choropleth"
           }
          ],
          "contour": [
           {
            "colorbar": {
             "outlinewidth": 0,
             "ticks": ""
            },
            "colorscale": [
             [
              0,
              "#0d0887"
             ],
             [
              0.1111111111111111,
              "#46039f"
             ],
             [
              0.2222222222222222,
              "#7201a8"
             ],
             [
              0.3333333333333333,
              "#9c179e"
             ],
             [
              0.4444444444444444,
              "#bd3786"
             ],
             [
              0.5555555555555556,
              "#d8576b"
             ],
             [
              0.6666666666666666,
              "#ed7953"
             ],
             [
              0.7777777777777778,
              "#fb9f3a"
             ],
             [
              0.8888888888888888,
              "#fdca26"
             ],
             [
              1,
              "#f0f921"
             ]
            ],
            "type": "contour"
           }
          ],
          "contourcarpet": [
           {
            "colorbar": {
             "outlinewidth": 0,
             "ticks": ""
            },
            "type": "contourcarpet"
           }
          ],
          "heatmap": [
           {
            "colorbar": {
             "outlinewidth": 0,
             "ticks": ""
            },
            "colorscale": [
             [
              0,
              "#0d0887"
             ],
             [
              0.1111111111111111,
              "#46039f"
             ],
             [
              0.2222222222222222,
              "#7201a8"
             ],
             [
              0.3333333333333333,
              "#9c179e"
             ],
             [
              0.4444444444444444,
              "#bd3786"
             ],
             [
              0.5555555555555556,
              "#d8576b"
             ],
             [
              0.6666666666666666,
              "#ed7953"
             ],
             [
              0.7777777777777778,
              "#fb9f3a"
             ],
             [
              0.8888888888888888,
              "#fdca26"
             ],
             [
              1,
              "#f0f921"
             ]
            ],
            "type": "heatmap"
           }
          ],
          "heatmapgl": [
           {
            "colorbar": {
             "outlinewidth": 0,
             "ticks": ""
            },
            "colorscale": [
             [
              0,
              "#0d0887"
             ],
             [
              0.1111111111111111,
              "#46039f"
             ],
             [
              0.2222222222222222,
              "#7201a8"
             ],
             [
              0.3333333333333333,
              "#9c179e"
             ],
             [
              0.4444444444444444,
              "#bd3786"
             ],
             [
              0.5555555555555556,
              "#d8576b"
             ],
             [
              0.6666666666666666,
              "#ed7953"
             ],
             [
              0.7777777777777778,
              "#fb9f3a"
             ],
             [
              0.8888888888888888,
              "#fdca26"
             ],
             [
              1,
              "#f0f921"
             ]
            ],
            "type": "heatmapgl"
           }
          ],
          "histogram": [
           {
            "marker": {
             "pattern": {
              "fillmode": "overlay",
              "size": 10,
              "solidity": 0.2
             }
            },
            "type": "histogram"
           }
          ],
          "histogram2d": [
           {
            "colorbar": {
             "outlinewidth": 0,
             "ticks": ""
            },
            "colorscale": [
             [
              0,
              "#0d0887"
             ],
             [
              0.1111111111111111,
              "#46039f"
             ],
             [
              0.2222222222222222,
              "#7201a8"
             ],
             [
              0.3333333333333333,
              "#9c179e"
             ],
             [
              0.4444444444444444,
              "#bd3786"
             ],
             [
              0.5555555555555556,
              "#d8576b"
             ],
             [
              0.6666666666666666,
              "#ed7953"
             ],
             [
              0.7777777777777778,
              "#fb9f3a"
             ],
             [
              0.8888888888888888,
              "#fdca26"
             ],
             [
              1,
              "#f0f921"
             ]
            ],
            "type": "histogram2d"
           }
          ],
          "histogram2dcontour": [
           {
            "colorbar": {
             "outlinewidth": 0,
             "ticks": ""
            },
            "colorscale": [
             [
              0,
              "#0d0887"
             ],
             [
              0.1111111111111111,
              "#46039f"
             ],
             [
              0.2222222222222222,
              "#7201a8"
             ],
             [
              0.3333333333333333,
              "#9c179e"
             ],
             [
              0.4444444444444444,
              "#bd3786"
             ],
             [
              0.5555555555555556,
              "#d8576b"
             ],
             [
              0.6666666666666666,
              "#ed7953"
             ],
             [
              0.7777777777777778,
              "#fb9f3a"
             ],
             [
              0.8888888888888888,
              "#fdca26"
             ],
             [
              1,
              "#f0f921"
             ]
            ],
            "type": "histogram2dcontour"
           }
          ],
          "mesh3d": [
           {
            "colorbar": {
             "outlinewidth": 0,
             "ticks": ""
            },
            "type": "mesh3d"
           }
          ],
          "parcoords": [
           {
            "line": {
             "colorbar": {
              "outlinewidth": 0,
              "ticks": ""
             }
            },
            "type": "parcoords"
           }
          ],
          "pie": [
           {
            "automargin": true,
            "type": "pie"
           }
          ],
          "scatter": [
           {
            "fillpattern": {
             "fillmode": "overlay",
             "size": 10,
             "solidity": 0.2
            },
            "type": "scatter"
           }
          ],
          "scatter3d": [
           {
            "line": {
             "colorbar": {
              "outlinewidth": 0,
              "ticks": ""
             }
            },
            "marker": {
             "colorbar": {
              "outlinewidth": 0,
              "ticks": ""
             }
            },
            "type": "scatter3d"
           }
          ],
          "scattercarpet": [
           {
            "marker": {
             "colorbar": {
              "outlinewidth": 0,
              "ticks": ""
             }
            },
            "type": "scattercarpet"
           }
          ],
          "scattergeo": [
           {
            "marker": {
             "colorbar": {
              "outlinewidth": 0,
              "ticks": ""
             }
            },
            "type": "scattergeo"
           }
          ],
          "scattergl": [
           {
            "marker": {
             "colorbar": {
              "outlinewidth": 0,
              "ticks": ""
             }
            },
            "type": "scattergl"
           }
          ],
          "scattermapbox": [
           {
            "marker": {
             "colorbar": {
              "outlinewidth": 0,
              "ticks": ""
             }
            },
            "type": "scattermapbox"
           }
          ],
          "scatterpolar": [
           {
            "marker": {
             "colorbar": {
              "outlinewidth": 0,
              "ticks": ""
             }
            },
            "type": "scatterpolar"
           }
          ],
          "scatterpolargl": [
           {
            "marker": {
             "colorbar": {
              "outlinewidth": 0,
              "ticks": ""
             }
            },
            "type": "scatterpolargl"
           }
          ],
          "scatterternary": [
           {
            "marker": {
             "colorbar": {
              "outlinewidth": 0,
              "ticks": ""
             }
            },
            "type": "scatterternary"
           }
          ],
          "surface": [
           {
            "colorbar": {
             "outlinewidth": 0,
             "ticks": ""
            },
            "colorscale": [
             [
              0,
              "#0d0887"
             ],
             [
              0.1111111111111111,
              "#46039f"
             ],
             [
              0.2222222222222222,
              "#7201a8"
             ],
             [
              0.3333333333333333,
              "#9c179e"
             ],
             [
              0.4444444444444444,
              "#bd3786"
             ],
             [
              0.5555555555555556,
              "#d8576b"
             ],
             [
              0.6666666666666666,
              "#ed7953"
             ],
             [
              0.7777777777777778,
              "#fb9f3a"
             ],
             [
              0.8888888888888888,
              "#fdca26"
             ],
             [
              1,
              "#f0f921"
             ]
            ],
            "type": "surface"
           }
          ],
          "table": [
           {
            "cells": {
             "fill": {
              "color": "#EBF0F8"
             },
             "line": {
              "color": "white"
             }
            },
            "header": {
             "fill": {
              "color": "#C8D4E3"
             },
             "line": {
              "color": "white"
             }
            },
            "type": "table"
           }
          ]
         },
         "layout": {
          "annotationdefaults": {
           "arrowcolor": "#2a3f5f",
           "arrowhead": 0,
           "arrowwidth": 1
          },
          "autotypenumbers": "strict",
          "coloraxis": {
           "colorbar": {
            "outlinewidth": 0,
            "ticks": ""
           }
          },
          "colorscale": {
           "diverging": [
            [
             0,
             "#8e0152"
            ],
            [
             0.1,
             "#c51b7d"
            ],
            [
             0.2,
             "#de77ae"
            ],
            [
             0.3,
             "#f1b6da"
            ],
            [
             0.4,
             "#fde0ef"
            ],
            [
             0.5,
             "#f7f7f7"
            ],
            [
             0.6,
             "#e6f5d0"
            ],
            [
             0.7,
             "#b8e186"
            ],
            [
             0.8,
             "#7fbc41"
            ],
            [
             0.9,
             "#4d9221"
            ],
            [
             1,
             "#276419"
            ]
           ],
           "sequential": [
            [
             0,
             "#0d0887"
            ],
            [
             0.1111111111111111,
             "#46039f"
            ],
            [
             0.2222222222222222,
             "#7201a8"
            ],
            [
             0.3333333333333333,
             "#9c179e"
            ],
            [
             0.4444444444444444,
             "#bd3786"
            ],
            [
             0.5555555555555556,
             "#d8576b"
            ],
            [
             0.6666666666666666,
             "#ed7953"
            ],
            [
             0.7777777777777778,
             "#fb9f3a"
            ],
            [
             0.8888888888888888,
             "#fdca26"
            ],
            [
             1,
             "#f0f921"
            ]
           ],
           "sequentialminus": [
            [
             0,
             "#0d0887"
            ],
            [
             0.1111111111111111,
             "#46039f"
            ],
            [
             0.2222222222222222,
             "#7201a8"
            ],
            [
             0.3333333333333333,
             "#9c179e"
            ],
            [
             0.4444444444444444,
             "#bd3786"
            ],
            [
             0.5555555555555556,
             "#d8576b"
            ],
            [
             0.6666666666666666,
             "#ed7953"
            ],
            [
             0.7777777777777778,
             "#fb9f3a"
            ],
            [
             0.8888888888888888,
             "#fdca26"
            ],
            [
             1,
             "#f0f921"
            ]
           ]
          },
          "colorway": [
           "#636efa",
           "#EF553B",
           "#00cc96",
           "#ab63fa",
           "#FFA15A",
           "#19d3f3",
           "#FF6692",
           "#B6E880",
           "#FF97FF",
           "#FECB52"
          ],
          "font": {
           "color": "#2a3f5f"
          },
          "geo": {
           "bgcolor": "white",
           "lakecolor": "white",
           "landcolor": "#E5ECF6",
           "showlakes": true,
           "showland": true,
           "subunitcolor": "white"
          },
          "hoverlabel": {
           "align": "left"
          },
          "hovermode": "closest",
          "mapbox": {
           "style": "light"
          },
          "paper_bgcolor": "white",
          "plot_bgcolor": "#E5ECF6",
          "polar": {
           "angularaxis": {
            "gridcolor": "white",
            "linecolor": "white",
            "ticks": ""
           },
           "bgcolor": "#E5ECF6",
           "radialaxis": {
            "gridcolor": "white",
            "linecolor": "white",
            "ticks": ""
           }
          },
          "scene": {
           "xaxis": {
            "backgroundcolor": "#E5ECF6",
            "gridcolor": "white",
            "gridwidth": 2,
            "linecolor": "white",
            "showbackground": true,
            "ticks": "",
            "zerolinecolor": "white"
           },
           "yaxis": {
            "backgroundcolor": "#E5ECF6",
            "gridcolor": "white",
            "gridwidth": 2,
            "linecolor": "white",
            "showbackground": true,
            "ticks": "",
            "zerolinecolor": "white"
           },
           "zaxis": {
            "backgroundcolor": "#E5ECF6",
            "gridcolor": "white",
            "gridwidth": 2,
            "linecolor": "white",
            "showbackground": true,
            "ticks": "",
            "zerolinecolor": "white"
           }
          },
          "shapedefaults": {
           "line": {
            "color": "#2a3f5f"
           }
          },
          "ternary": {
           "aaxis": {
            "gridcolor": "white",
            "linecolor": "white",
            "ticks": ""
           },
           "baxis": {
            "gridcolor": "white",
            "linecolor": "white",
            "ticks": ""
           },
           "bgcolor": "#E5ECF6",
           "caxis": {
            "gridcolor": "white",
            "linecolor": "white",
            "ticks": ""
           }
          },
          "title": {
           "x": 0.05
          },
          "xaxis": {
           "automargin": true,
           "gridcolor": "white",
           "linecolor": "white",
           "ticks": "",
           "title": {
            "standoff": 15
           },
           "zerolinecolor": "white",
           "zerolinewidth": 2
          },
          "yaxis": {
           "automargin": true,
           "gridcolor": "white",
           "linecolor": "white",
           "ticks": "",
           "title": {
            "standoff": 15
           },
           "zerolinecolor": "white",
           "zerolinewidth": 2
          }
         }
        },
        "title": {
         "text": "Historically Black LA neighborhoods with black population decline in past decade"
        },
        "width": 1000,
        "xaxis": {
         "autorange": true,
         "range": [
          -0.5,
          16.5
         ],
         "tickfont": {
          "size": 12
         },
         "type": "category"
        },
        "yaxis": {
         "autorange": true,
         "range": [
          0,
          165.6140350877193
         ],
         "tickfont": {
          "size": 12
         },
         "title": {
          "font": {
           "size": 14
          },
          "text": "delta"
         },
         "type": "linear"
        }
       }
      },
      "image/png": "[encoded data removed]",
      "text/html": [
       "<div>                            <div id=\"6ed9520d-6230-4bb7-aa36-381a001df5b2\" class=\"plotly-graph-div\" style=\"height:500px; width:1000px;\"></div>            <script type=\"text/javascript\">                require([\"plotly\"], function(Plotly) {                    window.PLOTLYENV=window.PLOTLYENV || {};                                    if (document.getElementById(\"6ed9520d-6230-4bb7-aa36-381a001df5b2\")) {                    Plotly.newPlot(                        \"6ed9520d-6230-4bb7-aa36-381a001df5b2\",                        [{\"marker\":{\"color\":\"rgb(30, 50, 350)\"},\"name\":\"Black out\",\"x\":[\"Broadway-Manchester\",\"Chesterfield Square\",\"West Adams\",\"Jefferson Park\",\"Mid-City\",\"Vermont Square\",\"San Pedro\",\"Exposition Park\",\"Florence\",\"Green Meadows\",\"Baldwin Hills/Crenshaw\",\"Vermont Vista\",\"Vermont-Slauson\",\"Sherman Oaks\",\"North Hollywood\",\"Gramercy Park\",\"Hyde Park\"],\"y\":[73.00469483568075,74.4240992321323,76.70872765509989,85.61224489795919,86.56798245614034,87.45288099084544,87.56756756756758,88.00200803212851,88.49924585218703,88.76793666501732,91.04571070757672,91.74543163201008,97.24711907810499,98.73717442778216,98.74551971326166,99.02482269503547,99.7897955283776],\"type\":\"bar\"},{\"marker\":{\"color\":\"rgb(26, 150, 200)\"},\"name\":\"White migration\",\"opacity\":0.5,\"x\":[\"Broadway-Manchester\",\"Chesterfield Square\",\"West Adams\",\"Jefferson Park\",\"Mid-City\",\"Vermont Square\",\"San Pedro\",\"Exposition Park\",\"Florence\",\"Green Meadows\",\"Baldwin Hills/Crenshaw\",\"Vermont Vista\",\"Vermont-Slauson\",\"Sherman Oaks\",\"North Hollywood\",\"Gramercy Park\",\"Hyde Park\"],\"y\":[109.06040268456377,32.7319587628866,92.70315091210614,157.33333333333331,90.77400754047461,122.7619708535739,104.93395493395494,137.6333656644035,88.62763915547025,110.85069444444444,74.64788732394366,119.45169712793732,89.96036988110964,91.99967902423367,90.02909962341664,85.18518518518519,70.86527929901423],\"type\":\"bar\"}],                        {\"template\":{\"data\":{\"histogram2dcontour\":[{\"type\":\"histogram2dcontour\",\"colorbar\":{\"outlinewidth\":0,\"ticks\":\"\"},\"colorscale\":[[0.0,\"#0d0887\"],[0.1111111111111111,\"#46039f\"],[0.2222222222222222,\"#7201a8\"],[0.3333333333333333,\"#9c179e\"],[0.4444444444444444,\"#bd3786\"],[0.5555555555555556,\"#d8576b\"],[0.6666666666666666,\"#ed7953\"],[0.7777777777777778,\"#fb9f3a\"],[0.8888888888888888,\"#fdca26\"],[1.0,\"#f0f921\"]]}],\"choropleth\":[{\"type\":\"choropleth\",\"colorbar\":{\"outlinewidth\":0,\"ticks\":\"\"}}],\"histogram2d\":[{\"type\":\"histogram2d\",\"colorbar\":{\"outlinewidth\":0,\"ticks\":\"\"},\"colorscale\":[[0.0,\"#0d0887\"],[0.1111111111111111,\"#46039f\"],[0.2222222222222222,\"#7201a8\"],[0.3333333333333333,\"#9c179e\"],[0.4444444444444444,\"#bd3786\"],[0.5555555555555556,\"#d8576b\"],[0.6666666666666666,\"#ed7953\"],[0.7777777777777778,\"#fb9f3a\"],[0.8888888888888888,\"#fdca26\"],[1.0,\"#f0f921\"]]}],\"heatmap\":[{\"type\":\"heatmap\",\"colorbar\":{\"outlinewidth\":0,\"ticks\":\"\"},\"colorscale\":[[0.0,\"#0d0887\"],[0.1111111111111111,\"#46039f\"],[0.2222222222222222,\"#7201a8\"],[0.3333333333333333,\"#9c179e\"],[0.4444444444444444,\"#bd3786\"],[0.5555555555555556,\"#d8576b\"],[0.6666666666666666,\"#ed7953\"],[0.7777777777777778,\"#fb9f3a\"],[0.8888888888888888,\"#fdca26\"],[1.0,\"#f0f921\"]]}],\"heatmapgl\":[{\"type\":\"heatmapgl\",\"colorbar\":{\"outlinewidth\":0,\"ticks\":\"\"},\"colorscale\":[[0.0,\"#0d0887\"],[0.1111111111111111,\"#46039f\"],[0.2222222222222222,\"#7201a8\"],[0.3333333333333333,\"#9c179e\"],[0.4444444444444444,\"#bd3786\"],[0.5555555555555556,\"#d8576b\"],[0.6666666666666666,\"#ed7953\"],[0.7777777777777778,\"#fb9f3a\"],[0.8888888888888888,\"#fdca26\"],[1.0,\"#f0f921\"]]}],\"contourcarpet\":[{\"type\":\"contourcarpet\",\"colorbar\":{\"outlinewidth\":0,\"ticks\":\"\"}}],\"contour\":[{\"type\":\"contour\",\"colorbar\":{\"outlinewidth\":0,\"ticks\":\"\"},\"colorscale\":[[0.0,\"#0d0887\"],[0.1111111111111111,\"#46039f\"],[0.2222222222222222,\"#7201a8\"],[0.3333333333333333,\"#9c179e\"],[0.4444444444444444,\"#bd3786\"],[0.5555555555555556,\"#d8576b\"],[0.6666666666666666,\"#ed7953\"],[0.7777777777777778,\"#fb9f3a\"],[0.8888888888888888,\"#fdca26\"],[1.0,\"#f0f921\"]]}],\"surface\":[{\"type\":\"surface\",\"colorbar\":{\"outlinewidth\":0,\"ticks\":\"\"},\"colorscale\":[[0.0,\"#0d0887\"],[0.1111111111111111,\"#46039f\"],[0.2222222222222222,\"#7201a8\"],[0.3333333333333333,\"#9c179e\"],[0.4444444444444444,\"#bd3786\"],[0.5555555555555556,\"#d8576b\"],[0.6666666666666666,\"#ed7953\"],[0.7777777777777778,\"#fb9f3a\"],[0.8888888888888888,\"#fdca26\"],[1.0,\"#f0f921\"]]}],\"mesh3d\":[{\"type\":\"mesh3d\",\"colorbar\":{\"outlinewidth\":0,\"ticks\":\"\"}}],\"scatter\":[{\"fillpattern\":{\"fillmode\":\"overlay\",\"size\":10,\"solidity\":0.2},\"type\":\"scatter\"}],\"parcoords\":[{\"type\":\"parcoords\",\"line\":{\"colorbar\":{\"outlinewidth\":0,\"ticks\":\"\"}}}],\"scatterpolargl\":[{\"type\":\"scatterpolargl\",\"marker\":{\"colorbar\":{\"outlinewidth\":0,\"ticks\":\"\"}}}],\"bar\":[{\"error_x\":{\"color\":\"#2a3f5f\"},\"error_y\":{\"color\":\"#2a3f5f\"},\"marker\":{\"line\":{\"color\":\"#E5ECF6\",\"width\":0.5},\"pattern\":{\"fillmode\":\"overlay\",\"size\":10,\"solidity\":0.2}},\"type\":\"bar\"}],\"scattergeo\":[{\"type\":\"scattergeo\",\"marker\":{\"colorbar\":{\"outlinewidth\":0,\"ticks\":\"\"}}}],\"scatterpolar\":[{\"type\":\"scatterpolar\",\"marker\":{\"colorbar\":{\"outlinewidth\":0,\"ticks\":\"\"}}}],\"histogram\":[{\"marker\":{\"pattern\":{\"fillmode\":\"overlay\",\"size\":10,\"solidity\":0.2}},\"type\":\"histogram\"}],\"scattergl\":[{\"type\":\"scattergl\",\"marker\":{\"colorbar\":{\"outlinewidth\":0,\"ticks\":\"\"}}}],\"scatter3d\":[{\"type\":\"scatter3d\",\"line\":{\"colorbar\":{\"outlinewidth\":0,\"ticks\":\"\"}},\"marker\":{\"colorbar\":{\"outlinewidth\":0,\"ticks\":\"\"}}}],\"scattermapbox\":[{\"type\":\"scattermapbox\",\"marker\":{\"colorbar\":{\"outlinewidth\":0,\"ticks\":\"\"}}}],\"scatterternary\":[{\"type\":\"scatterternary\",\"marker\":{\"colorbar\":{\"outlinewidth\":0,\"ticks\":\"\"}}}],\"scattercarpet\":[{\"type\":\"scattercarpet\",\"marker\":{\"colorbar\":{\"outlinewidth\":0,\"ticks\":\"\"}}}],\"carpet\":[{\"aaxis\":{\"endlinecolor\":\"#2a3f5f\",\"gridcolor\":\"white\",\"linecolor\":\"white\",\"minorgridcolor\":\"white\",\"startlinecolor\":\"#2a3f5f\"},\"baxis\":{\"endlinecolor\":\"#2a3f5f\",\"gridcolor\":\"white\",\"linecolor\":\"white\",\"minorgridcolor\":\"white\",\"startlinecolor\":\"#2a3f5f\"},\"type\":\"carpet\"}],\"table\":[{\"cells\":{\"fill\":{\"color\":\"#EBF0F8\"},\"line\":{\"color\":\"white\"}},\"header\":{\"fill\":{\"color\":\"#C8D4E3\"},\"line\":{\"color\":\"white\"}},\"type\":\"table\"}],\"barpolar\":[{\"marker\":{\"line\":{\"color\":\"#E5ECF6\",\"width\":0.5},\"pattern\":{\"fillmode\":\"overlay\",\"size\":10,\"solidity\":0.2}},\"type\":\"barpolar\"}],\"pie\":[{\"automargin\":true,\"type\":\"pie\"}]},\"layout\":{\"autotypenumbers\":\"strict\",\"colorway\":[\"#636efa\",\"#EF553B\",\"#00cc96\",\"#ab63fa\",\"#FFA15A\",\"#19d3f3\",\"#FF6692\",\"#B6E880\",\"#FF97FF\",\"#FECB52\"],\"font\":{\"color\":\"#2a3f5f\"},\"hovermode\":\"closest\",\"hoverlabel\":{\"align\":\"left\"},\"paper_bgcolor\":\"white\",\"plot_bgcolor\":\"#E5ECF6\",\"polar\":{\"bgcolor\":\"#E5ECF6\",\"angularaxis\":{\"gridcolor\":\"white\",\"linecolor\":\"white\",\"ticks\":\"\"},\"radialaxis\":{\"gridcolor\":\"white\",\"linecolor\":\"white\",\"ticks\":\"\"}},\"ternary\":{\"bgcolor\":\"#E5ECF6\",\"aaxis\":{\"gridcolor\":\"white\",\"linecolor\":\"white\",\"ticks\":\"\"},\"baxis\":{\"gridcolor\":\"white\",\"linecolor\":\"white\",\"ticks\":\"\"},\"caxis\":{\"gridcolor\":\"white\",\"linecolor\":\"white\",\"ticks\":\"\"}},\"coloraxis\":{\"colorbar\":{\"outlinewidth\":0,\"ticks\":\"\"}},\"colorscale\":{\"sequential\":[[0.0,\"#0d0887\"],[0.1111111111111111,\"#46039f\"],[0.2222222222222222,\"#7201a8\"],[0.3333333333333333,\"#9c179e\"],[0.4444444444444444,\"#bd3786\"],[0.5555555555555556,\"#d8576b\"],[0.6666666666666666,\"#ed7953\"],[0.7777777777777778,\"#fb9f3a\"],[0.8888888888888888,\"#fdca26\"],[1.0,\"#f0f921\"]],\"sequentialminus\":[[0.0,\"#0d0887\"],[0.1111111111111111,\"#46039f\"],[0.2222222222222222,\"#7201a8\"],[0.3333333333333333,\"#9c179e\"],[0.4444444444444444,\"#bd3786\"],[0.5555555555555556,\"#d8576b\"],[0.6666666666666666,\"#ed7953\"],[0.7777777777777778,\"#fb9f3a\"],[0.8888888888888888,\"#fdca26\"],[1.0,\"#f0f921\"]],\"diverging\":[[0,\"#8e0152\"],[0.1,\"#c51b7d\"],[0.2,\"#de77ae\"],[0.3,\"#f1b6da\"],[0.4,\"#fde0ef\"],[0.5,\"#f7f7f7\"],[0.6,\"#e6f5d0\"],[0.7,\"#b8e186\"],[0.8,\"#7fbc41\"],[0.9,\"#4d9221\"],[1,\"#276419\"]]},\"xaxis\":{\"gridcolor\":\"white\",\"linecolor\":\"white\",\"ticks\":\"\",\"title\":{\"standoff\":15},\"zerolinecolor\":\"white\",\"automargin\":true,\"zerolinewidth\":2},\"yaxis\":{\"gridcolor\":\"white\",\"linecolor\":\"white\",\"ticks\":\"\",\"title\":{\"standoff\":15},\"zerolinecolor\":\"white\",\"automargin\":true,\"zerolinewidth\":2},\"scene\":{\"xaxis\":{\"backgroundcolor\":\"#E5ECF6\",\"gridcolor\":\"white\",\"linecolor\":\"white\",\"showbackground\":true,\"ticks\":\"\",\"zerolinecolor\":\"white\",\"gridwidth\":2},\"yaxis\":{\"backgroundcolor\":\"#E5ECF6\",\"gridcolor\":\"white\",\"linecolor\":\"white\",\"showbackground\":true,\"ticks\":\"\",\"zerolinecolor\":\"white\",\"gridwidth\":2},\"zaxis\":{\"backgroundcolor\":\"#E5ECF6\",\"gridcolor\":\"white\",\"linecolor\":\"white\",\"showbackground\":true,\"ticks\":\"\",\"zerolinecolor\":\"white\",\"gridwidth\":2}},\"shapedefaults\":{\"line\":{\"color\":\"#2a3f5f\"}},\"annotationdefaults\":{\"arrowcolor\":\"#2a3f5f\",\"arrowhead\":0,\"arrowwidth\":1},\"geo\":{\"bgcolor\":\"white\",\"landcolor\":\"#E5ECF6\",\"subunitcolor\":\"white\",\"showland\":true,\"showlakes\":true,\"lakecolor\":\"white\"},\"title\":{\"x\":0.05},\"mapbox\":{\"style\":\"light\"}}},\"shapes\":[{\"line\":{\"dash\":\"dot\"},\"type\":\"line\",\"x0\":0,\"x1\":1,\"xref\":\"x domain\",\"y0\":100,\"y1\":100,\"yref\":\"y\"}],\"annotations\":[{\"showarrow\":false,\"text\":\"in-out migration threshold\",\"x\":1,\"xanchor\":\"right\",\"xref\":\"x domain\",\"y\":100,\"yanchor\":\"bottom\",\"yref\":\"y\"}],\"xaxis\":{\"tickfont\":{\"size\":12}},\"yaxis\":{\"title\":{\"text\":\"delta\",\"font\":{\"size\":14}},\"tickfont\":{\"size\":12}},\"legend\":{\"x\":0,\"y\":1.0,\"bgcolor\":\"rgba(255, 255, 255, 0)\",\"bordercolor\":\"rgba(255, 255, 255, 0)\"},\"title\":{\"text\":\"Historically Black LA neighborhoods with black population decline in past decade\"},\"barmode\":\"group\",\"bargap\":0.15,\"bargroupgap\":0.1,\"width\":1000,\"height\":500},                        {\"responsive\": true}                    ).then(function(){\n",
       "                            \n",
       "var gd = document.getElementById('6ed9520d-6230-4bb7-aa36-381a001df5b2');\n",
       "var x = new MutationObserver(function (mutations, observer) {{\n",
       "        var display = window.getComputedStyle(gd).display;\n",
       "        if (!display || display === 'none') {{\n",
       "            console.log([gd, 'removed!']);\n",
       "            Plotly.purge(gd);\n",
       "            observer.disconnect();\n",
       "        }}\n",
       "}});\n",
       "\n",
       "// Listen for the removal of the full notebook cells\n",
       "var notebookContainer = gd.closest('#notebook-container');\n",
       "if (notebookContainer) {{\n",
       "    x.observe(notebookContainer, {childList: true});\n",
       "}}\n",
       "\n",
       "// Listen for the clearing of the current output cell\n",
       "var outputEl = gd.closest('.output');\n",
       "if (outputEl) {{\n",
       "    x.observe(outputEl, {childList: true});\n",
       "}}\n",
       "\n",
       "                        })                };                });            </script>        </div>"
      ]
     },
     "metadata": {},
     "output_type": "display_data"
    }
   ],
   "source": [
    "# test graphs II\n",
    "fig = go.Figure()\n",
    "fig.add_trace(go.Bar(x=nbhr_1['name'],\n",
    "                y=nbhr_1['delta_100_black'],\n",
    "                name='Black out',\n",
    "                marker_color='rgb(30, 50, 350)'\n",
    "                ))\n",
    "fig.add_trace(go.Bar(x=nbhr_1['name'],\n",
    "                     y=nbhr_1['delta_100_white'],\n",
    "                     opacity = .5,\n",
    "                     name='White migration',\n",
    "                marker_color='rgb(26, 150, 200)'\n",
    "                ))\n",
    "fig.add_hline(y=100, line_dash=\"dot\",\n",
    "              annotation_text=\"in-out migration threshold\", \n",
    "              annotation_position=\"top right\")\n",
    "\n",
    "fig.update_layout(\n",
    "    title='Historically Black LA neighborhoods with black population decline in past decade',\n",
    "    xaxis_tickfont_size=12,\n",
    "    yaxis=dict(\n",
    "        title='delta',\n",
    "        titlefont_size=14,\n",
    "        tickfont_size=12,\n",
    "    ),\n",
    "    legend=dict(\n",
    "        x=0,\n",
    "        y=1.0,\n",
    "        bgcolor='rgba(255, 255, 255, 0)',\n",
    "        bordercolor='rgba(255, 255, 255, 0)'\n",
    "    ),\n",
    "    barmode='group',\n",
    "    bargap=0.15, # gap between bars of adjacent location coordinates.\n",
    "    bargroupgap=0.1 ,# gap between bars of the same location coordinate.\n",
    "    \n",
    "    width=1000,\n",
    "    height=500\n",
    ")\n",
    "fig.show()"
   ]
  },
  {
   "cell_type": "code",
   "execution_count": null,
   "id": "3ca2211c-0e21-4f20-aea8-89faca67d262",
   "metadata": {},
   "outputs": [],
   "source": []
  }
 ],
 "metadata": {
  "kernelspec": {
   "display_name": "Python 3 (ipykernel)",
   "language": "python",
   "name": "python3"
  },
  "language_info": {
   "codemirror_mode": {
    "name": "ipython",
    "version": 3
   },
   "file_extension": ".py",
   "mimetype": "text/x-python",
   "name": "python",
   "nbconvert_exporter": "python",
   "pygments_lexer": "ipython3",
   "version": "3.10.8"
  }
 },
 "nbformat": 4,
 "nbformat_minor": 5
}
